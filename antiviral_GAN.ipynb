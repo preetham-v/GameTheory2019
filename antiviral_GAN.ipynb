{
  "nbformat": 4,
  "nbformat_minor": 0,
  "metadata": {
    "colab": {
      "name": "antiviral_GAN.ipynb",
      "provenance": [],
      "collapsed_sections": [],
      "authorship_tag": "ABX9TyMDjmUnchjYSUCK98Tzr2mc",
      "include_colab_link": true
    },
    "kernelspec": {
      "name": "python3",
      "display_name": "Python 3"
    },
    "accelerator": "GPU"
  },
  "cells": [
    {
      "cell_type": "markdown",
      "metadata": {
        "id": "view-in-github",
        "colab_type": "text"
      },
      "source": [
        "<a href=\"https://colab.research.google.com/github/preetham-v/GameTheory2019/blob/master/antiviral_GAN.ipynb\" target=\"_parent\"><img src=\"https://colab.research.google.com/assets/colab-badge.svg\" alt=\"Open In Colab\"/></a>"
      ]
    },
    {
      "cell_type": "code",
      "metadata": {
        "id": "9UvVxFsCD9mT",
        "colab_type": "code",
        "colab": {}
      },
      "source": [
        "import numpy as np\n",
        "import pandas as pd\n",
        "import torch\n",
        "from torch import nn\n",
        "import torch.optim as optim\n",
        "import random\n",
        "import matplotlib.pyplot as plt\n",
        "\n",
        "%matplotlib inline"
      ],
      "execution_count": 1,
      "outputs": []
    },
    {
      "cell_type": "code",
      "metadata": {
        "id": "VwA9cE0NHuh_",
        "colab_type": "code",
        "colab": {}
      },
      "source": [
        "url = 'https://raw.githubusercontent.com/preetham-v/antiviralGAN/master/AVPdb_data.csv'\n",
        "\n",
        "data = pd.read_csv(url, skiprows = 1, usecols = range(3), header=None, names=['ID','seq','len'])"
      ],
      "execution_count": 2,
      "outputs": []
    },
    {
      "cell_type": "code",
      "metadata": {
        "id": "fPnBUMVMJEK8",
        "colab_type": "code",
        "colab": {
          "base_uri": "https://localhost:8080/",
          "height": 35
        },
        "outputId": "80064fb0-29c2-4da9-fe73-0e522a33ae5c"
      },
      "source": [
        "all_sequences = np.asarray(data['seq'])\n",
        "print(all_sequences[:5])"
      ],
      "execution_count": 3,
      "outputs": [
        {
          "output_type": "stream",
          "text": [
            "['PYVGSGLYRR' 'SMIENLEYM' 'ECRSTSYAGAVVNDL' 'STSYAGAVVNDL' 'YAGAVVNDL']\n"
          ],
          "name": "stdout"
        }
      ]
    },
    {
      "cell_type": "code",
      "metadata": {
        "id": "yQinJOXdHrU-",
        "colab_type": "code",
        "colab": {}
      },
      "source": [
        "#Dictionary of 20 canonical amino acids\n",
        "CHARACTER_DICT = set([\n",
        "    u'A', u'C', u'E', u'D', u'G', u'F', u'I', u'H', u'K',\n",
        "    u'M', u'L', u'N', u'Q', u'P', u'S', u'R', u'T', u'W',\n",
        "    u'V', u'Y']\n",
        ")\n",
        "\n",
        "CHARACTER_TO_INDEX = {\n",
        "    character: i\n",
        "    for i, character in enumerate(CHARACTER_DICT)\n",
        "}\n",
        "\n",
        "INDEX_TO_CHARACTER = {\n",
        "    CHARACTER_TO_INDEX[c]: c\n",
        "    for c in CHARACTER_TO_INDEX\n",
        "}"
      ],
      "execution_count": 4,
      "outputs": []
    },
    {
      "cell_type": "code",
      "metadata": {
        "id": "Eqm5jJ_NG1pG",
        "colab_type": "code",
        "colab": {}
      },
      "source": [
        "MAX_SEQUENCE_LENGTH = 18 #Problem Statement requires < 2000 kDa, Avg. amino acid = 110 kDa\n",
        "num_amino_acids = len(CHARACTER_DICT) "
      ],
      "execution_count": 5,
      "outputs": []
    },
    {
      "cell_type": "code",
      "metadata": {
        "id": "5qCHSqHfIOg9",
        "colab_type": "code",
        "colab": {}
      },
      "source": [
        "def sequence_to_vector(sequence, embed_dict=None):\n",
        "    if embed_dict==None:\n",
        "        default = np.zeros([MAX_SEQUENCE_LENGTH, len(CHARACTER_TO_INDEX)+1])\n",
        "        default[:,len(CHARACTER_TO_INDEX)] = 1\n",
        "        for i, character in enumerate(sequence[:MAX_SEQUENCE_LENGTH]):\n",
        "            default[i][CHARACTER_TO_INDEX[character]] = 1\n",
        "            default[i][len(CHARACTER_TO_INDEX)] = 0\n",
        "        return default\n",
        "    else:\n",
        "        default = np.zeros([MAX_SEQUENCE_LENGTH,len(embed_dict['A'])])\n",
        "        for i, character in enumerate(sequence[:MAX_SEQUENCE_LENGTH]):\n",
        "            for k,val in enumerate(embed_dict[character]):\n",
        "                default[i,k] = val\n",
        "        return default"
      ],
      "execution_count": 6,
      "outputs": []
    },
    {
      "cell_type": "code",
      "metadata": {
        "colab_type": "code",
        "id": "KFAejGUmdnQz",
        "colab": {}
      },
      "source": [
        "def vector_to_sequence(vector):\n",
        "    seq = ''\n",
        "\n",
        "    for i in range(18):\n",
        "        arg = np.argmax(vector[i])\n",
        "        if arg == 20:\n",
        "          seq += 'X'\n",
        "        else:\n",
        "          seq += INDEX_TO_CHARACTER[arg]\n",
        "    return seq\n"
      ],
      "execution_count": 7,
      "outputs": []
    },
    {
      "cell_type": "code",
      "metadata": {
        "id": "oXYPLrCaQnXk",
        "colab_type": "code",
        "colab": {}
      },
      "source": [
        "class Generator(nn.Module):\n",
        "    def __init__(self, input_length):\n",
        "        \"\"\"A generator for mapping a random peptide to an antiviral peptide\n",
        "        Args:\n",
        "            input_length (int array): max_length * number_of_characters \n",
        "                                      (\"noise vector\")\n",
        "            layers (List[int]): A list of layer widths including output width\n",
        "            output_activation: torch activation function or None\n",
        "        \"\"\"\n",
        "        super(Generator, self).__init__()\n",
        "        self.linear1 = nn.Linear(input_length, 40)\n",
        "        self.leaky_relu = nn.LeakyReLU()\n",
        "        self.relu = nn.ReLU()\n",
        "        self.linear2 = nn.Linear(40, 120)\n",
        "        self.linear3 = nn.Linear(120, 240)\n",
        "        self.linear4 = nn.Linear(240, 378)\n",
        "        self.output_activation = nn.LeakyReLU()\n",
        "\n",
        "    def forward(self, input_tensor):\n",
        "        \"\"\"Forward pass; map latent vectors to samples.\"\"\"\n",
        "        intermediate = self.linear1(input_tensor)\n",
        "        intermediate = self.leaky_relu(intermediate)\n",
        "        intermediate = self.linear2(intermediate)\n",
        "        intermediate = self.leaky_relu(intermediate)\n",
        "        intermediate = self.linear3(intermediate)\n",
        "        intermediate = self.leaky_relu(intermediate)\n",
        "        intermediate = self.linear4(intermediate)\n",
        "        intermediate = self.output_activation(intermediate)\n",
        "\n",
        "        view = intermediate.view(-1, 18)\n",
        "        (view == view.max(dim=1, keepdim=True)[0]).view_as(intermediate).int()\n",
        "        \n",
        "        return intermediate"
      ],
      "execution_count": 8,
      "outputs": []
    },
    {
      "cell_type": "code",
      "metadata": {
        "id": "JN3i4Xoq9mqm",
        "colab_type": "code",
        "colab": {}
      },
      "source": [
        "class Discriminator(nn.Module):\n",
        "    def __init__(self, input_dim, layers):\n",
        "        \"\"\"A discriminator for discerning real from generated samples.\n",
        "        params:\n",
        "            input_dim (int): width of the input\n",
        "            layers (List[int]): A list of layer widths including output width\n",
        "        Output activation is Sigmoid.\n",
        "        \"\"\"\n",
        "        super(Discriminator, self).__init__()\n",
        "        self.input_dim = input_dim\n",
        "        self._init_layers(layers)\n",
        "\n",
        "    def _init_layers(self, layers):\n",
        "        \"\"\"Initialize the layers and store as self.module_list.\"\"\"\n",
        "        self.module_list = nn.ModuleList()\n",
        "        last_layer = self.input_dim\n",
        "        for index, width in enumerate(layers):\n",
        "            self.module_list.append(nn.Linear(last_layer, width))\n",
        "            last_layer = width\n",
        "            if index + 1 != len(layers):\n",
        "                self.module_list.append(nn.LeakyReLU())\n",
        "            else:\n",
        "                self.module_list.append(nn.Sigmoid())\n",
        "\n",
        "    def forward(self, input_tensor):\n",
        "        \"\"\"Forward pass; map samples to confidence they are real [0, 1].\"\"\"\n",
        "        intermediate = input_tensor\n",
        "        for layer in self.module_list:\n",
        "            intermediate = layer(intermediate)\n",
        "        return intermediate"
      ],
      "execution_count": 9,
      "outputs": []
    },
    {
      "cell_type": "code",
      "metadata": {
        "id": "gXgni6k90HhM",
        "colab_type": "code",
        "colab": {}
      },
      "source": [
        "all_inputs = []\n",
        "for j in range(len(all_sequences)):\n",
        "  embedding = sequence_to_vector(all_sequences[j])\n",
        "  all_inputs.append(np.reshape(embedding,378))"
      ],
      "execution_count": 10,
      "outputs": []
    },
    {
      "cell_type": "code",
      "metadata": {
        "id": "cIaAh98vmoNP",
        "colab_type": "code",
        "colab": {}
      },
      "source": [
        "def data_function(batch_size, iteration):\n",
        "  input_array = all_inputs[batch_size*iteration : batch_size*(iteration+1)]\n",
        "  return input_array\n",
        "\n",
        "def noise_function(batch_size):\n",
        "  input_array = []  \n",
        "  for j in range(batch_size):\n",
        "    # a = np.zeros([18,21])\n",
        "    # for i in range(18):\n",
        "    #   x = np.random.randint(21)\n",
        "    #   a[i][x] = 1\n",
        "    # input_array.append(np.reshape(a,378))\n",
        "    input_array.append(np.random.randn(1,20))\n",
        "\n",
        "  return input_array"
      ],
      "execution_count": 11,
      "outputs": []
    },
    {
      "cell_type": "code",
      "metadata": {
        "id": "gphmNsOt-ikc",
        "colab_type": "code",
        "cellView": "form",
        "colab": {}
      },
      "source": [
        "#@title\n",
        "class VanillaGAN():\n",
        "    def __init__(self, generator, discriminator, noise_fn, data_fn,\n",
        "                 batch_size=32, device='cpu', lr_d=1e-3, lr_g=2e-4):\n",
        "        \"\"\"A GAN class for holding and training a generator and discriminator\n",
        "        Args:\n",
        "            generator: a Ganerator network\n",
        "            discriminator: A Discriminator network\n",
        "            noise_fn: function f(num: int) -> pytorch tensor, (latent vectors)\n",
        "            data_fn: function f(num: int) -> pytorch tensor, (real samples)\n",
        "            batch_size: training batch size\n",
        "            device: cpu or CUDA\n",
        "            lr_d: learning rate for the discriminator\n",
        "            lr_g: learning rate for the generator\n",
        "        \"\"\"\n",
        "        self.generator = generator\n",
        "        self.generator = self.generator.to(device)\n",
        "        self.discriminator = discriminator\n",
        "        self.discriminator = self.discriminator.to(device)\n",
        "        self.noise_fn = noise_fn\n",
        "        self.data_fn = data_fn\n",
        "        self.batch_size = batch_size\n",
        "        self.device = device\n",
        "        self.criterion = nn.BCELoss()\n",
        "        self.optim_d = optim.Adam(discriminator.parameters(),\n",
        "                                  lr=lr_d, betas=(0.5, 0.999))\n",
        "        self.optim_g = optim.Adam(generator.parameters(),\n",
        "                                  lr=lr_g, betas=(0.5, 0.999))\n",
        "        self.target_ones = torch.ones((batch_size, 1)).to(device)\n",
        "        self.target_zeros = torch.zeros((batch_size, 1)).to(device)\n",
        "\n",
        "    def generate_samples(self, latent_vec=None, num=None):\n",
        "        \"\"\"Sample from the generator.\n",
        "        Args:\n",
        "            latent_vec: A pytorch latent vector or None\n",
        "            num: The number of samples to generate if latent_vec is None\n",
        "        If latent_vec and num are None then us self.batch_size random latent\n",
        "        vectors.\n",
        "        \"\"\"\n",
        "        num = self.batch_size if num is None else num\n",
        "        latent_vec = self.noise_fn(num) if latent_vec is None else latent_vec\n",
        "        with torch.no_grad():\n",
        "            samples = self.generator(latent_vec)\n",
        "        return samples\n",
        "\n",
        "    def train_step_generator(self):\n",
        "        \"\"\"Train the generator one step and return the loss.\"\"\"\n",
        "        self.generator.zero_grad()\n",
        "\n",
        "        latent_vec = self.noise_fn(self.batch_size)\n",
        "        generated = self.generator(latent_vec)\n",
        "        classifications = self.discriminator(generated)\n",
        "        loss = self.criterion(classifications, self.target_ones)\n",
        "        loss.backward()\n",
        "        self.optim_g.step()\n",
        "        return loss.item()\n",
        "\n",
        "    def train_step_discriminator(self):\n",
        "        \"\"\"Train the discriminator one step and return the losses.\"\"\"\n",
        "        self.discriminator.zero_grad()\n",
        "\n",
        "        # real samples\n",
        "        real_samples = self.data_fn(self.batch_size)\n",
        "        pred_real = self.discriminator(real_samples)\n",
        "        loss_real = self.criterion(pred_real, self.target_ones)\n",
        "\n",
        "        # generated samples\n",
        "        latent_vec = self.noise_fn(self.batch_size)\n",
        "        with torch.no_grad():\n",
        "            fake_samples = self.generator(latent_vec)\n",
        "        pred_fake = self.discriminator(fake_samples)\n",
        "        loss_fake = self.criterion(pred_fake, self.target_zeros)\n",
        "\n",
        "        # combine\n",
        "        loss = (loss_real + loss_fake) / 2\n",
        "        loss.backward()\n",
        "        self.optim_d.step()\n",
        "        return loss_real.item(), loss_fake.item()\n",
        "\n",
        "    def train_step(self):\n",
        "        \"\"\"Train both networks and return the losses.\"\"\"\n",
        "        loss_d = self.train_step_discriminator()\n",
        "        loss_g = self.train_step_generator()\n",
        "        return loss_g, loss_d"
      ],
      "execution_count": null,
      "outputs": []
    },
    {
      "cell_type": "code",
      "metadata": {
        "id": "UC7m2z-iXxGI",
        "colab_type": "code",
        "colab": {}
      },
      "source": [
        "def simpleGAN(generator_func, discriminator_func, \n",
        "              batch_size: int = 25, epochs: int = 5, \n",
        "              max_data: int = len(all_sequences), print_every: int = 10, ):\n",
        "\n",
        "  #Array to monitor losses\n",
        "  loss_g = []\n",
        "  loss_dreal = []\n",
        "  loss_dfake = []\n",
        "  input_length = 20\n",
        "\n",
        "  # Models\n",
        "  generator = generator_func\n",
        "  discriminator = discriminator_func\n",
        "\n",
        "  # Optimizers\n",
        "  generator_optimizer = torch.optim.Adam(generator.parameters(), lr=0.001)\n",
        "  discriminator_optimizer = torch.optim.Adam(discriminator.parameters(), \n",
        "                                          lr=0.0001)\n",
        "\n",
        "  # loss\n",
        "  loss = nn.BCELoss()\n",
        "\n",
        "  for i in range(epochs):\n",
        "\n",
        "    for j in range(int(max_data/batch_size)):\n",
        "\n",
        "      # zero the gradients on each iteration\n",
        "      generator_optimizer.zero_grad()\n",
        "\n",
        "\n",
        "      # Create noisy input for generator\n",
        "      # Need float type instead of int\n",
        "      noise = noise_function(batch_size)\n",
        "      noise_data = torch.tensor(noise).float()\n",
        "      generated_data = generator(noise_data)  \n",
        "\n",
        "      # Generate examples of real data\n",
        "      true_data = data_function(batch_size, j)\n",
        "      true_labels = torch.tensor(np.ones(batch_size)).float()\n",
        "      true_data = torch.tensor(true_data).float()\n",
        "\n",
        "      # Train the generator\n",
        "      # We invert the labels here and don't train the discriminator because we want the generator\n",
        "      # to make things the discriminator classifies as true.\n",
        "      generator_discriminator_out = discriminator(generated_data)\n",
        "      generator_loss = loss(generator_discriminator_out, true_labels)\n",
        "      generator_loss.backward()\n",
        "      generator_optimizer.step()\n",
        "\n",
        "      # Train the discriminator on the true/generated data\n",
        "      discriminator_optimizer.zero_grad()\n",
        "      true_discriminator_out = discriminator(true_data)\n",
        "      true_discriminator_loss = loss(true_discriminator_out, true_labels)\n",
        "\n",
        "      # add .detach() here think about this\n",
        "      generator_discriminator_out = discriminator(generated_data.detach())\n",
        "      generator_discriminator_loss = loss(generator_discriminator_out, torch.zeros(batch_size))\n",
        "      discriminator_loss = (true_discriminator_loss + generator_discriminator_loss) / 2   \n",
        "      discriminator_loss.backward()\n",
        "      discriminator_optimizer.step()\n",
        "\n",
        "      loss_g.append(generator_loss.detach().numpy())\n",
        "      loss_dreal.append(true_discriminator_loss.detach().numpy())\n",
        "      loss_dfake.append(generator_discriminator_loss.detach().numpy())\n",
        "  \n",
        "\n",
        "    if i % print_every == 0 and i != 0:\n",
        "      generated_data = generated_data.detach().numpy()\n",
        "#      x = random.randint(0,len(generated_data))\n",
        "      sequences = set()\n",
        "      noises = []\n",
        "      for j in range(batch_size):\n",
        "#        noise_var = np.reshape(noise[j], [18,21])\n",
        "        sequence = np.reshape(generated_data[j], [18,21])\n",
        "        sequences.add(vector_to_sequence(sequence))\n",
        "        noises.append(noise[j])\n",
        "      \n",
        "#      print(i, noises)\n",
        "      print(i, sequences)\n",
        "\n",
        "  return loss_g, loss_dreal, loss_dfake\n",
        "\n"
      ],
      "execution_count": 12,
      "outputs": []
    },
    {
      "cell_type": "code",
      "metadata": {
        "id": "7jUxoWZeFFy5",
        "colab_type": "code",
        "cellView": "form",
        "colab": {}
      },
      "source": [
        "#@title Default title text\n",
        "def main():\n",
        "    from time import time\n",
        "    epochs = 600\n",
        "    batches = 10\n",
        "    generator = Generator(360)\n",
        "    discriminator = Discriminator(1, [64, 32, 1])\n",
        "    noise_fn = noise_function()\n",
        "    data_fn = data_function()\n",
        "    gan = VanillaGAN(generator, discriminator, noise_fn, data_fn, device='cpu')\n",
        "    loss_g, loss_d_real, loss_d_fake = [], [], []\n",
        "    start = time()\n",
        "    for epoch in range(epochs):\n",
        "        loss_g_running, loss_d_real_running, loss_d_fake_running = 0, 0, 0\n",
        "        for batch in range(batches):\n",
        "            lg_, (ldr_, ldf_) = gan.train_step()\n",
        "            loss_g_running += lg_\n",
        "            loss_d_real_running += ldr_\n",
        "            loss_d_fake_running += ldf_\n",
        "        loss_g.append(loss_g_running / batches)\n",
        "        loss_d_real.append(loss_d_real_running / batches)\n",
        "        loss_d_fake.append(loss_d_fake_running / batches)\n",
        "        print(f\"Epoch {epoch+1}/{epochs} ({int(time() - start)}s):\"\n",
        "              f\" G={loss_g[-1]:.3f},\"\n",
        "              f\" Dr={loss_d_real[-1]:.3f},\"\n",
        "              f\" Df={loss_d_fake[-1]:.3f}\")\n",
        "\n",
        "\n",
        "if __name__ == \"__main__\":\n",
        "    main()"
      ],
      "execution_count": null,
      "outputs": []
    },
    {
      "cell_type": "code",
      "metadata": {
        "id": "8v5ReVWzaZeJ",
        "colab_type": "code",
        "colab": {
          "base_uri": "https://localhost:8080/",
          "height": 1000
        },
        "outputId": "5f508570-e321-4820-c76b-a291b804e2fc"
      },
      "source": [
        "import time\n",
        "start_time = time.time()\n",
        "\n",
        "generator = Generator(20)\n",
        "discriminator = Discriminator(378, [32, 16, 1])  \n",
        "\n",
        "losses = simpleGAN(generator, discriminator, \n",
        "                   batch_size=2059, epochs=10001, print_every = 100)\n",
        "\n",
        "print(\"Program took\", time.time() - start_time, \"to run\")"
      ],
      "execution_count": 13,
      "outputs": [
        {
          "output_type": "stream",
          "text": [
            "/usr/local/lib/python3.6/dist-packages/torch/nn/modules/loss.py:529: UserWarning: Using a target size (torch.Size([2059])) that is different to the input size (torch.Size([2059, 1, 1])) is deprecated. Please ensure they have the same size.\n",
            "  return F.binary_cross_entropy(input, target, weight=self.weight, reduction=self.reduction)\n",
            "/usr/local/lib/python3.6/dist-packages/torch/nn/modules/loss.py:529: UserWarning: Using a target size (torch.Size([2059])) that is different to the input size (torch.Size([2059, 1])) is deprecated. Please ensure they have the same size.\n",
            "  return F.binary_cross_entropy(input, target, weight=self.weight, reduction=self.reduction)\n"
          ],
          "name": "stderr"
        },
        {
          "output_type": "stream",
          "text": [
            "100 {'FMQKLLNARPAMAHSIYL'}\n",
            "200 {'ECQYNAGXMPNTWVEMAC'}\n",
            "300 {'VAHPDAGXKPNTGVEQHC', 'VAHPRAGXKPNTGVEQHC'}\n",
            "400 {'VAKPVAGXKPNTEFELHC', 'VAKPVAGXKANTEFEQHC', 'VAKPVAGXKPNTEFEQHC', 'VAKPVAGXKANTEFELHC'}\n",
            "500 {'FRKPGAGXAAQDEQKLGC', 'FRKPGAGXAAQDEQKLHC', 'FRKPGAGXAAQDEQELHC'}\n",
            "600 {'FKRPRIGXVCNIVQLLQC', 'FKRPXIHXVCNIVQLLQC', 'FKRPXIGXVCNIVQLLQC'}\n",
            "700 {'IKISRGRSCIPXMLHKEN'}\n",
            "800 {'PKRSRGXCWIPWMRHKEX', 'PKRSRGXCWIPXMRVKEX', 'IKRSRGXCDINXVRRXEX', 'IKRSRGRSVINXVRRKEX', 'PKRSRGXCWIPWVRHKEX', 'IKRPRGGCVINXVRRXEC', 'IKRSRGXCDIPXMRRKEX', 'IKRSRGXCDIPXVRRXEX', 'IKRPRGGCVINXVRRXEX', 'IKRSRGGCKINXVRRXEX', 'PKRSRGXCWIPWVLHKEX', 'IKRPRGXSAINXMRRXEX', 'IKRSRGXCAINXMRRXEX', 'IKRSRGXCVINXVRRXEX', 'IKRSRGXCAIPXMRVKEX', 'IKRSRGRSVINXVRRXEX', 'PKRSRGXCAIPXMRRKEX', 'IKRPRGGCKINXVRRXEX', 'IKRPRGGXAINXVRRXEC', 'PKRSRGXCWIPWYRVKEX', 'IKRSRGXCWIPXVRHKEX', 'IKRSRGXSVINXVRRKEX', 'IKRSRGXCDIPXMRHKEX', 'IKRPRGGXKINXVRRXEX', 'IKRSRGRCDIPXVRHKEX', 'IKRSRGXCWIPXMRRKEX', 'IKRPRGGXKINXGRRXEC', 'IKRPRGGXVINXVRRXEC', 'IKRSRGXCVIPXMRRKEX', 'IKRPRGGCAINXVRRXEX', 'IKRPRAGXKINTERRLEC', 'PKISRGSCWIPWYLHKEX', 'IKRSRGXCVIPXVRRXEX', 'IKRSRGXCVIPXMRVKEX', 'IKRSRGXCVIPXVRHKEX', 'IKRPRGGSAINXVRRXEX', 'PKISRGXCWIPWYLHKEX', 'PKRSRGXCWIPXYRHKEX', 'PKISRGSCWIPWYLVKEX', 'PKRSRGXCVIPXVRHKEX', 'IKRSRGXCAINXMRRKEX', 'IKRSRGXCAINXVRRXEX', 'PKRSRGXCWIPXMRHKEX', 'PKRSRGXCVIPXMRVKEX', 'IKRPRGXCAINXVRRXEX', 'IKRSRGXCAIPXMRRKEX', 'IKRPRGXSVINXVRRXEX', 'IKRPRGGXKINXERRXEC', 'IKRPRGGCKINXVRRXEC', 'IKRSRGGCDINXVRRXEX', 'IKRPRGGSVINXVRRXEX', 'IKRPRGRCVINXVRRXEX', 'PKRSRGXCWIPWYLVKEX', 'IKRSRGXCAIPXVRRKEX', 'IKRSRGXCAIPXMRHKEX', 'IKRSRGXCDIPXVRRKEX', 'IKRSRGGCAINXVRRXEX', 'PKRSRGXCAIPXMRVKEX', 'IKRSRGRCVINXVRRKEX', 'IKRSRGXCWIPXMRHKEX', 'IKRSRGXCDIPXVRHKEX', 'IKRSRGXSVIPXVRHKEX', 'PKRSRGXCWIPXYRVKEX', 'IKRPRGGXKINXVRRLEC', 'IKRSRGRCVIPXVRRKEX', 'IKRSRGXCVIPXVRRKEX', 'IKRSRGXCKINXVRRXEX', 'IKRSRGRCDIPXVRRXEX', 'IKRSRGRCVIPXVRHKEX', 'IKRSRGRCDINXVRRXEX', 'PKRSRGXCVIPXMRHKEX', 'IKRSRGRCWIPXVRHKEX', 'PKISRGSCWIPWYPVKEX', 'IKRSRGRCVIPXVRRXEX', 'PKRSRGXCWIPXVRHKEX', 'IKRSRGXCAINXVRRKEX', 'IKRSRGXCVINXVRRKEX', 'PKRSRGXCWIPWYRHKEX', 'IKRSRGXSVINXVRRXEX', 'IKRSRGRCDIPXVRRKEX', 'IKRSRGRCVINXVRRXEX', 'IKRSRGGCVINXVRRXEX', 'FKRPRAGXKINTERRLEC', 'IKRPRGRSVINXVRRXEX', 'IKRPRAGXKINXERRLEC', 'IKRSRGXSVIPXVRRKEX', 'IKRSRGXCVIPXMRHKEX', 'PKRSRGXCWIPWYLHKEX', 'IKRPRGGSVINXVRRXEC', 'IKRPRGGXAINXVRRXEX', 'IKRPRGGXKINXVRRXEC'}\n",
            "900 {'IREIIGKDCILXYCVNTX', 'IREIIGKDCILXYCVDTX', 'IREIIGKDFILXYCVNTX', 'IREIIGKDNILXYCVDTX', 'IREIIGKDFILXYCVDTX', 'IREIIGKDPILXYCVDTX'}\n",
            "1000 {'IRCIISKDFPAXYEVFTX'}\n",
            "1100 {'PIRIRGXDFKLWYEVNTX'}\n",
            "1200 {'PKMNRGXDFILWEQSNTX', 'PKMNRGXDFILWYESNTX', 'PKMNRGXDFILWMQSNTX', 'PKMIRGXDFILWYQSNTX', 'PKMIRGXDFILWMQSNTX', 'PKMIRGXDFILWYESNTX', 'PKMNRGXDFILWYQSNTX'}\n",
            "1300 {'PKMNRGXDFCLLYQSNTX', 'PKMNRGXDFILLMQSNTX', 'PKMNRGXDFILLYQSNTX', 'PKMNRGXDFCLLMQSNTX'}\n",
            "1400 {'PKMNRGXDFCLLMQSNHX', 'PKMNRGXDFCLLMQSNTX'}\n",
            "1500 {'PKMNRGXDFCLLYQSNHX', 'PKMNRGGDFCLLYQSNHX'}\n",
            "1600 {'PKMNIGXDFCLLYQSNTX', 'PKMNRGXDFCLLYQSNHX', 'PKMNRGGDFCLLYQSNHX', 'PKMNIGXDFCLLYQSNHX', 'PKMNIGGDFCLLYQSNTX', 'PKMNIGGDFCLLYQSNHX', 'PKMNRGGDFCLLYQSNTX', 'PKMNRGXDFCLLYQSNTX'}\n",
            "1700 {'CESNTDTAEVYCXAXYXR', 'CESNTDTAEVYCXAXGXR'}\n",
            "1800 {'CNVPKFSXDHMXQRWXQC', 'CNVPVFSXDHMXQRWXQC', 'CNVPKFSXDHMXQRWXQR'}\n",
            "1900 {'CNVTWRSXEFMXDCXAXR', 'CNVTWRSXEFMXDCXAQR'}\n",
            "2000 {'ASVTWKAQIKGXDNMAXF', 'ASCTWKAQIKGXDNMAXF', 'ASCTWKAQIKGXDNDAXF'}\n",
            "2100 {'ASLKSXIRVKGPRCDGXQ', 'ASLSSXIRVKGPRCDGXQ', 'ASLSSXIQVKGPRCDGXQ', 'ASLSSXIQVKGPDCDGXQ'}\n",
            "2200 {'LYMRSEIRVGXADKDNXF', 'LYMRSEIRVGGADKDXXF', 'LYMRSWIRVGXADKDXXF', 'LYMRSEIRVGXADKDXXF'}\n",
            "2300 {'CTMCGWIDEGXXQKGXLF', 'CTMCAWIDEGXXQKGXLF', 'CTMCARIDEGXXQKGXLF', 'CTMCGRIDEGXXQKGXLF', 'CTMCGRIDIGXXQKGXLF', 'CTMCGWIDIGXXQKGXLF', 'CTMCAWIDIGXXQKGXLF'}\n",
            "2400 {'CAVPQWGXDSXGPREXHX', 'CAVPQWGXTSXGPREXHX', 'CAVPQWGXTSXGPRGXKX', 'CAVPQAGXDSXGPREXHX', 'CAVPQWGXDSXGPREXKX', 'CAVPQWGXTSXGPREXKX'}\n",
            "2500 {'CAVPQADXDEXVRRGXCX'}\n",
            "2600 {'CSGPYRWWEEXVRRXNXF', 'CTGPLRWWEEXVRRXNXF', 'CSGPLRWWEEXVRRXXXF', 'CSGPLRWWIEXVRRXXXF', 'CSGPYRWWEEXVRRXXXF', 'CSGPLRWWEEXVRRXNXF', 'CTGPYRWWEEXVRRXNXF'}\n",
            "2700 {'QHPDLSWWEEXVDXXNXX', 'QHPALSWWEEXVDXXNXX'}\n",
            "2800 {'PSASVRCXCGNXVXIXVS', 'PSASWRCXCGNXVXVXVS', 'PSASWWCDCGNXVXVXVS', 'PSASWRCDCGMXVXVXVS', 'PSASWRCDCGNXVXVXVS', 'PSASWWCDCGAXVXVXVS', 'PSASWWCDCGMXVXVXVS'}\n",
            "2900 {'EVALWECFCYVCVXIIVS', 'CVASWMCREYVCDXIIXS', 'EVALWECFCYVCDXIIVS', 'EVALWMCFEYVCDXIIXS', 'CVALWMCREYVCDXIIXS', 'EVALWECDCYVCDXIIVS', 'EVALWMCREYVCDXIIXS', 'EVALWMCFCYVCDXIIXS', 'CVASWMCDEYVCDXIIXS', 'EVALWECFCYVCNXIIVS', 'EVALWECDCYVCVXIIVS', 'EVALWECFCYVCDXIIXS', 'EVALWECFCYVCNXIIXS'}\n",
            "3000 {'PKMIRHXDFKMXTESYTX', 'PFVIRHSDEKMXTESYTX', 'PFVIWHSDEKMXTESYHX', 'PFMIRHXDFKMXTESYTX', 'PFMIRHXDFKLXTESYTX', 'PKVIRHSDFKMXTESYHX', 'PKMIRHXDFKLXTESYTX', 'PKMIRHSDFKMXTQSXHX', 'PFVIRHSDEKMXTESYHX', 'PVVIWHSDEKMXTESYHX', 'PVVIWHSDEKMXTESYTX', 'PKMIRHSDFKMXTESYTX', 'EVVIWHSIFKMXTEIYCX', 'PFMIRHSDFKMXTESYTX', 'PFVIWHSDEKMXTESYTX', 'PVVIWHSDEKMXTEFYHX', 'PFVIWHSDFKMXTESYHX', 'PVVIRHSDFKMXTEIYHX', 'PVVIWHSDEKMXTEIYHX', 'PFVIRHSDFKMXTESYTX', 'PFMIRHSDFKMXTESYHX', 'PVVIWHSDFKMXTEIYHX', 'PVVIRHSDFKMXTESYHX', 'PVVIWHSIFKMXTEFYHX', 'PKMIRHSDFYNXTQSXHX', 'PVVIRHSDFKMXTQIYHX', 'PVVIRHSDFKMXTQSYHX', 'PKMIRHXDFKMXTESYHX', 'PKMIRHSDFKMXTQSYHX', 'EVVIWHSIEKMXTEIYHX', 'PVVIRHSDFKMXTESYTX', 'PFVIRHSDFKMXTQSYHX', 'PFVIWHSDFKMXTESYTX', 'PKVIRHSDFKMXTQSYHX', 'EVVIWHSIFKMXTEIYHX', 'PVVIRHSDFKMXTEFYHX', 'EVDIWHSIFKMXTEIYCX', 'PVVIWHSIFKMXTEIYHX', 'PVVIWHSDFKMXTESYHX', 'PKMIRHSDFKMXTESYHX', 'PFVIRHSDFKMXTESYHX', 'PVVIWHSDFKMXTEFYHX', 'PVVIRHSIFKMXTEIYHX', 'PFMIRHSDFKLXTESYTX'}\n",
            "3100 {'PVVTWRSAEYLXXCSXCX', 'PVVTTDSAEYLXXEXXQX', 'PVVTWRSAEYLXXESXQX', 'CVVTWDSAEYLXXCXYCX', 'CVVTWHSAEYMXXCSYQX', 'CVVTTDSAEYLXXEXXCX', 'CVVTTDSAEYLXXCXYQX', 'TVVTWHSAEYMXXCWYQX', 'CVVTWHSAEYMXXCXYQX', 'PVVTWRSAEYMXXQSXQX', 'PVVTTDSAEYLXXEXXCX', 'CVVTWHSAEYMXXCXYCX', 'CVVTTDSAEYLXXCWYCX', 'CVVTWDSAEYLXXCXXCX', 'CVVTWDSAEYMXXCXYQX', 'CVVTTDSAEYLXXCWXQX', 'CVVTTDSAEYMXXCXYQX', 'PVVTTDSAEYMXXCWYQX', 'CVVTTDSAEYLXXCSXCX', 'PVVTTDSAEYLXXCXXCX', 'PVVTTDSAEYLXXCWYQX', 'PVVTTDSAEYLXXESXCX', 'CVVTWHSAEYLXXCXYCX', 'CVVTTDSAEYLXXCXXQX', 'PVVTTDSAEYLXXCSYCX', 'PVVTWRSAEYMXXESXQX', 'PVVTWDSAEYMXXCWYQX', 'CVVTTDSAEYLXXCXXCX', 'PVVTWHSAEYMXXCXYQX', 'CVVTWHSAEYMXXKXYCX', 'CVVTTDSAEYLXXEXXTX', 'PVVTTDSAEYMXXCSXQX', 'CVVTTDSAEYMXXEXYQX', 'PVVTTDSAEYLXXCSXQX', 'CVVTWDSAEYMXXCXYCX', 'PVVTTDSAEYLXXESXQX', 'CVVTTDSAEYLXXCXXTX', 'CVVTWRSAEYMXXCXXQX', 'PVVTWRSAEYMXXCWYQX', 'CVVTTDSAEYMXXCWYQX', 'CVVTTDSAEYLXXESXCX', 'CVVTWDSAEYLXXCSYCX', 'CVVTWHSAEYMXXCWYQX', 'CVVTWHSAEYMXXCSYCX', 'PVVTWHSAEYMXXCSYCX', 'PVVTWRSAEYMXXCWXQX', 'PVVTTDSAEYMXXCXYQX', 'TVVTWHSAEYMXXCWYCX', 'PVVTWDSAEYMXXCSXQX', 'EVVTWHSAEYMXXCXYCX', 'CVVTWRSAEYMXXCWYQX', 'PVVTWDSAEYLXXCSYCX', 'PVVTWHSAEYMXXCWYQX', 'PVVTWRSAEYMXXCSXCX', 'PVVTWHSAEYMXXCSYQX', 'CVVTTDSAEYLXXCXYCX', 'PVVTWHSAEYMXXCSXQX', 'CVVTWDSAEYMXXCWYQX', 'PVVTWDSAEYMXXCSYQX', 'PVVTWDSAEYLXXCSXCX', 'CVVTTDSAEYLXXCWYQX', 'PVVTTDSAEYLXXCWXQX', 'PVVTTRSAEYLXXESXQX', 'CVVTTDSAEYLXXEXYQX', 'PVVTTDSAEYLXXCSXCX', 'PVVTWHSAEYMXXCWXQX', 'PVVTWRSAEYMXXCSXQX', 'PVVTTDSAEYLXXESYQX', 'CVVTTDSAEYMXXCXYCX', 'PVVTTDSAEYLXXCSYQX'}\n",
            "3200 {'LFCNIRLDFYLLXKSNHX', 'LFCIIRLDFYLLXKSFTX', 'LFCNIRLDFYLLXKSNCX', 'LFCCIRLDFYLLXKSFHX', 'LVCIIRLDFYNLXKSXHX', 'LFCIIRLDFYLLXKSFCX', 'LFCNIRLDFYLLXKSFCX', 'LFCTIRLDFYLLXKSFHX', 'LFCNIRLDFYNLXKSXHX', 'LFCIIRLDFYLLXKSNTX', 'LFCNIRLDFYLLXKSXHX', 'LFCTIRLDFYNLXKSFHX', 'LFCCIRLDFYLLXKSNCX', 'LFCTIRLDFYLLXKSFCX', 'LFCIIRLDFYLLXKSNCX', 'LFCIIRLDFYNLXKSXHX', 'LFCIIRLDFYNLXKSFHX', 'LFCIIRLDFYLLXKSNHX', 'LFCCIRLDFYLLXKSFCX', 'LFCNIRLDFYLLXKSFTX', 'LFCNIRLDFYLLXKSFHX', 'LFCIIRLDFYLLXKSFHX', 'LFCNIRLDFYLLXKSNTX', 'LFCIIRLDFYLLXKSXHX', 'LFCIIRLDFYNLXKSFCX', 'LVCIIRLDFYNLXKSFCX'}\n",
            "3300 {'TAMPVRGYTNNXXKKXCG', 'TAMPVRGYDNNXXKKXCG', 'TAVPVRGYDNNXXKKXCG', 'TAVPVRLYDNNXXKSXCG', 'TNVPVRLYDNNXXKKXCG', 'TAVPVRGYDNNXXKSXCG', 'TAVPVRGYTNNXXKKXCG', 'TNVPVRGYDNNXXKKXCG', 'TAKPVRGYTNNXXKKXCG', 'TAMPVRLYDNNXXKKXCG', 'TNVPVRLYDNNXXKSXCG', 'TAVPVRLYTNNXXKKXCG', 'TAVPVRLYDNNXXKKXCG', 'TNVPVRGYDNNXXKSXCG'}\n",
            "3400 {'KVKMVILATNMIPWIXIC', 'EVKMVILITYMIXWIXCC', 'KRKMVILATCMIPWKXQC', 'KRKMVILATNMIPWIXQC', 'KVKMVILATNMIXWIXCC', 'KFKMVILATNMIPWIXIC', 'KVKMVILATNMIPWKXQC', 'KVKMVILITNMIPWIXQC', 'KVKMVILATNMIPWAXQC', 'EVKMVILITNMIXWIXCC', 'EVKMVILITRMIXWIXCC', 'KRKMVILATNMIPWKXQC', 'KVKMVILITNMIPWIXIC', 'KVKMVILITNMIXWIXCC', 'KVKMVILATNMIPWIXQC', 'KVKMVILITNMIPWIXCC', 'EVKMVILITKMIXWIXCC', 'KVKMVILATNMIPWIXCC'}\n",
            "3500 {'KQDIAWXDXRVXPCFXCX', 'KQDIAWXDXYVIPCFXCX', 'KQDIAWXDXRVIPCFXCX', 'KQDIAWXDSYVXPCFXCX', 'KQDIAWXDSYVIPCFXCX', 'KQDIAWXDXYVXPCFXCX'}\n",
            "3600 {'YRHEAWQETXLIPSQXVH', 'YRHEAWQETXLXSSQXVH', 'YRHEAWQETXLIVSQXVH', 'YRHEAWQATXLXPSQXVH', 'YRHEAWQETXLXPSQXVH', 'YRHEAWQATXLXSSQXVH', 'YRHEAWQESXLXSSQXVH', 'YRHEAWQETXLXVSQXVH', 'YRHEAWQATXLIPSQXVH', 'YRHEAWQESXLXPSQXVH'}\n",
            "3700 {'DRHFIWLAAXNXFSQXDH', 'DRHFIWLAAXNXFSAXDH', 'DRHFIWLAVXMIFSQXDH', 'DRHFIWLAVXMXFSQXDH', 'DRHFIWLAAXMXFSQXDH', 'DRHFIWLAVXNXFSQXDH', 'DRHFIWLAVXXXFSQXDH', 'DRHFIWLAVXNXFSAXDH'}\n",
            "3800 {'TRRYPRXAKNMKCYAXDM', 'TRRYPRXSKNMKCYAXDM', 'PRRYPRXAKNMKCYAXDM', 'VRRYPRXAKNMKCYAXDM', 'VRRYPRXSKNMKCYAXDM', 'VRRYPRXAKNLKCYAXDM'}\n",
            "3900 {'PRRCIFRPYNLPCSAXDX', 'PRRKIFRPYNLPCSAXDX'}\n",
            "4000 {'WDERLPARCLVMLXGXXX', 'WDEELPARCDVMLXGXXX', 'WDERLPARCDVMLXGXXX', 'WDEELPARCLVMLXGXXX'}\n",
            "4100 {'VPXELSRRDDALQXVXXG', 'VPXELSRRDDXLQXVXXG'}\n",
            "4200 {'SPPELRPELVCLPKVXXX', 'SPIELRPELVCLPXVXXX', 'SPIELRPEPVCLPKVXXX', 'SPIELRPELVCLPKVXXX', 'SPGELRPEPVCLPKVXXX', 'SPIELRPEPVCLPXVXXX'}\n",
            "4300 {'SFEEFEEELVCCRXXDXX'}\n",
            "4400 {'WFSRIMEPCCVLRAXPXX', 'WFSRIMEECCVLRAXPXX', 'WFSRILEECCVLRAXPXX', 'WFSNIMEPCCVLRAXPXX', 'WFSNTMEPCCVLRAXPXX', 'WFSNTMEECCVLRAXPXX', 'WFSRILEPCCVLRAXPXX', 'WFSRTMEPCCVLRAXPXX', 'WFSNIMEECCVLRAXPXX'}\n",
            "4500 {'IWISTGARNCVCRLVDXX', 'IWISTGARNCVCRLVKXX', 'IWISWGARNCVCRLVDXX', 'IWISWGARNCVCRXVDXX'}\n",
            "4600 {'ILISELWSCNECRLXXXX', 'ILISELWSCNEXRLXXXX', 'ILISELWSCCEXRLXXXX', 'ILISELWSCCECRLXXXX'}\n",
            "4700 {'LLFSELASCNKXVLXXKX'}\n",
            "4800 {'ERLSEHAPCRXPVGGXXQ', 'ERLSEHAPCRXPVGGXKQ', 'ELLSEHAPCRXPVGGXXQ', 'ERLSEKAPCRXPFGGXXQ', 'WALSEHAPCRXPVGGXKQ', 'WLLSEKAPCRVPVGGXXQ', 'ERLSEKAPIRXPFGGXXQ', 'ERLSEKAPIXXPFGGXXQ', 'EVLSEKAPCRVPDGGXXQ', 'ELLSEHAPCRXPVGGXKQ', 'EVLSEKAPCXWPFGGXXQ', 'EVLSEKAPCRWPDGGXXQ', 'EALSEHAPCRXPVGGXKQ', 'EVLSEKAPCRXPFGGXXQ', 'WLLSEHAPCRXPVGGXXQ', 'EVLSEKAPIRXPFGGXXQ', 'WLLSEKAPCRXPVGGXXQ', 'EVLSEKAPIXWPFGGXXQ', 'EVLSEKAPCRXPDGGXXQ', 'ERLSEKAPCRXPDGGXXQ', 'WLLSEKAPCRVPDGGXXQ', 'EVLSEKSPIXWPFGGXXQ', 'WRLSEKAPIRXPFGGXXQ', 'ELLSEKAPCRXPDGGXXQ', 'ELLSEKAPIRXPDGGXXQ', 'ERLSEKAPIXWPFGGXXQ', 'ERLSEHAPXRXPFGGXXQ', 'EVLSEKAPIXVPFGGXXQ', 'ELLSEKAPCRXPFGGXXQ', 'ELLSEKAPCRVPDGGXXQ', 'EVLSEKSPCXWPFGGXXQ', 'WLLSEHAPCRXPVGGXKQ', 'EVLSEKAPCXWPDGGXXQ', 'WLLSEKAPIRXPFGGXXQ', 'WRLSEHAPCRXPVGGXXQ', 'EVLSEKAPIXXPFGGXXQ', 'ERLSEKAPCRXPVGGXXQ', 'ELLSEKAPCRWPDGGXXQ', 'ELLSEKAPIRXPFGGXXQ', 'WLLSEKAPCRXPDGGXXQ', 'ERLSEHAPCRXPFGGXXQ', 'WLLSEKAPCRXPVGGXKQ', 'WLLSEKAPIRXPDGGXXQ', 'ELLSEKAPCRXPVGGXXQ', 'EVLSEKAPCXVPDGGXXQ', 'WLLSEKAPIRXPVGGXXQ', 'WRLSEKAPIRXPVGGXXQ'}\n",
            "4900 {'ELLQEKLACXXPDGGXKG', 'ELLQEKIACXXPDGGXKH', 'ELLQEKLACXXPDGGXKQ', 'ILLQEKLACXXPDGGXKG', 'ELLQEKIACXXPDGGXKG', 'ELLQEKLACXXPDGGXKH', 'KLLQEKLACXXPDGGXKG', 'ELLQEHLACXXPDGGXKH', 'ELLQEHLACXXPDGGXKQ', 'ELLQEKIACXXPDGGXKQ', 'ILLQEKIACXXPDGGXKG'}\n",
            "5000 {'ILLQHKLRCYXPDKYDXG', 'ILLQHKLRCYXPDKGDXG', 'ILLQHKLRCYXPDKYXAG', 'ILLQHKLRCYXPDKYXXG', 'ILLQEKLRCYXPDKYXXG', 'ILLQEKLRCYXPDKGDXG', 'ILLQEKLRCYXPDKYDXG'}\n",
            "5100 {'KVLTWVSAXXFPDGYYXH', 'YVLTWHSAXYFPDCYYXH', 'YVLTHVSAXXFPDCYYXH', 'YVLTWWSAXXFPDCYYXH', 'YVLTKVSAXXFPDCYYXH', 'YVLTAHSAXXFPDCYYXH', 'KVHTWVSAXXMPDCGYXH', 'YWLTWHSAXYFPDCYYXH', 'KVHTWVSAXXFPDCYYXH', 'YVLTWVSAXXFPDCYYXH', 'EVLTKVSAXXFPDCYAXH', 'KVHTWWSAXXMPDCGYXH', 'KVLTWWSAXXFPDCYYXH', 'EVLTKVSAXXFPDCYYXH', 'KVLTKVSAXXFPDGYAXH', 'YVLTWHSAXXFPDCYYXH', 'EVLTWVSAXXFPDCYYXH', 'YVLTKHSAXXFPDCYYXH', 'KVLTKVSAXXFPDCYYXH', 'KVLTWVSAXXFPDCYYXH', 'YVLTHHSAXXFPDCYYXH'}\n",
            "5200 {'PKRTRGLARXMWCCAXXX', 'PRRTTGLARXMWCCAYXX', 'PRRTTGLARXFWCCAYXX', 'PKRTRGLARIVWCLAXXX', 'PRRTIGLARXFWCCAYXX', 'PKRTRGRARIVWCLAXVX', 'PKRTRGLARXMWCCAYXX', 'PKRTRGLARIVWCLAXVX', 'PRRTTGLARXVWCCAYXX', 'PRRTTWLARXFWCCAYXH', 'PKRTTGLARDVWCCAYXX', 'PKRTTGLARXVWCCAYXX', 'PRRTIGLARXMWCCAXXX', 'PKRTTGLARXFWCCAYXX', 'PRRTIGLARXVWCCAYXX', 'PKRTRGLARCMWCLAYXX', 'PKRTIGLARXVWCCAYXX', 'PKRTRGLARCVWCLAYXX', 'PKRTRGLARCVWCCAYXX', 'PKRTRGLARIMWCLAXXX', 'PKRTIGLARXMWCCAYXX', 'PKRTRGLARDVWCCAYXX', 'PKRTRGLARIVWCLAYXX', 'PKRTRGRARIPWCLAXVX', 'PKRTRGRARIVWCLAYVX', 'PKRTRGLARCMWCLAXXX', 'PKRTRGLARCMWCCAXXX', 'PKRTRGLARCVWCLAXXX', 'PKRTRGRARIVWCLAYXX', 'PKRTRGLARCMWCCAYXX', 'PKRTTGLARXMWCCAYXX', 'PKRTRGLARXVWCCAYXX', 'PRRTTWLARXFWCCAYXX', 'PKRTIGLARXMWCCAXXX', 'PKRTRGLARCVWCCAXXX', 'PRRTIGLARXMWCCAYXX', 'PKRTRGLARDVWCLAYXX'}\n",
            "5300 {'IKRTTWLAWILLCLHKXX', 'IKRTTQLAWILLCLHKXX', 'IKRTTWLAFILLCLHKXX'}\n",
            "5400 {'TKTKIWLGPVRMRDYKXX', 'TKTKIWLAPVRMRDYKXX'}\n",
            "5500 {'TKTKFNLYPXFLRCYXXX', 'TKTKFNLAPXFLRCYXXX'}\n",
            "5600 {'KNSKFNLATXFMRCXXXH'}\n",
            "5700 {'KNCKKNLGPXLXRAXXKH', 'KNCKKNLGPXLXPAXXKH'}\n",
            "5800 {'RLFQELHGGLIXDALXWT'}\n",
            "5900 {'IIVYDAGGGYIXDRLXWT'}\n",
            "6000 {'VIFYDAHGGPIXDRLXWT'}\n",
            "6100 {'VIXPRAGYGPNXGRCXHT'}\n",
            "6200 {'VLXPRAGYGFNLGRCXHX'}\n",
            "6300 {'HITRKAHVGFDEDALHWT'}\n",
            "6400 {'KKKWTNPAPXRIAAMXNX', 'KKKWTNPAWXMIAAMYNQ', 'KKKWTNPAPIRIAAMXNX', 'KKKWTNPAPXMIAAMYNQ', 'KKKWTNPAPXRQAAMYNX', 'KKKWTNPAPXRIAAMXNQ', 'KKKWTNPAWIRIAAMYNQ', 'KKKWTNPAPIRIAAMYNQ', 'KKKWTNPAPXRIAAMYNQ', 'KKKWTNPAPXRIAAMYNX'}\n",
            "6500 {'LAFNGEQXDLEGVNKNGX', 'KAFNGEQYDLEGVNKNGX', 'LAFNGEQXDLEGGNKNGX', 'LAFNGEQYDLXGGNKNGX', 'LAFNGEGXDLXGGNKLGX', 'LAFNGEQXDLXGGNKNGX', 'KDFNGEQYDLEGVNKNGX', 'LAFNGEGXDLEGVNKNGX', 'KGFNGEQYDLEGGNKNGX', 'KDFNGEQWPLEGVNKNGX', 'LAFNGEQYDLEGGNKNGX', 'LAFNGEQYDLEGVNKNGX', 'KDFNGEQYDLEGGNKNGX', 'KNFNGEQYDLEGGNKNGX', 'KAFNGEQYDLEGGNKNGX', 'LAFNGEGXDLXGGNKNGX', 'KDFNGEQWDLEGVNKNGX', 'KGFNGEQWDLEGGNKNGX'}\n",
            "6600 {'KGFDAEQYDLESGYKLPX', 'KGFNPEQYDLESGYKLPX', 'KGFDPEQYDLESGYKLPX'}\n",
            "6700 {'KQHDAHQARXESGSYVPX', 'KQFDAHQARXESGSYXPX', 'KQFDPNQARXESGSYXPX', 'KQFDANQARXESGSYXPX', 'KQFDPNQYRXESGSYXPX', 'KQHDANQARXESGSYXPX', 'KQHDAHQARXESGSYXPX', 'KQFDANQYRXESGSYXPX', 'KQFDAHQARXESGSYVPX', 'KQFDAHQYRXESGSYXPX'}\n",
            "6800 {'KGLNPVQWRLYSVSYLNX', 'AGLQPVQWRLYSVSYPNX', 'AGLNPVQWRLYSVSYPNX', 'AGLNPVQWRLYSASYLNX', 'KRFFPVEARLESVSYLPX', 'AGLNPVQWRLYSLSYPNX', 'KGFFPVQARLESVSYLNX', 'AGLFPVQWRLYSVSYPNX', 'KRFFPNEARLESVSYLPX', 'KGLFPVQARLESVSYLNX', 'KRFFPVQARLESVSYLNX', 'AGLNPVQWRLYSASYPNX', 'AGLNPVQWRLYSFSYPNX', 'AGLQPVQWRLYSFSYPNX', 'AGLNPVQWRLYSASYPNA', 'KRFFPVQARLESVSYLPX', 'AGLFPVQWRLYSVSYLNX', 'AGLNPVQWRLYSVSYLNX', 'KGLFPVQWRLESVSYLNX', 'KGFFPVQWRLESVSYLNX', 'AGLNPVQWRLYSLSYPNA', 'KGFFPVQARLYSVSYLNX', 'AGLNPFQWRLYSASYLNA', 'KGLFPVQWRLYSVSYLNX', 'KGLFPVQARLYSVSYLNX', 'AGLNPFQWRLYSASMPNA'}\n",
            "6900 {'IGEWRIVMDLRXVGLLNA', 'IKESRIVSDLESVGLLDA', 'IKEWRIVMDINXVQLLEA', 'KGLRSPVARLVSVGLANA', 'IKEWRIVVDIRXVQLLEA', 'IGLWVIVMDLEXVGLLNA', 'PKEWRIVMDINXVQLLEA', 'KGLRVPVADLESVGLLNA', 'KGLRSPVARLVSVGLAPA', 'IGEWVIVMDLRXVGLLNA', 'KGERVPVMDLESVGLLDA', 'IGEWVPVMDLEXVGLLNA', 'KGLRVPVARLVSVGLLDA', 'IGEWRIVMDIRXVQLLEA', 'KGLRVPVMDLESVGLLDA', 'IKERVIVMDLESVGLLDA', 'KGLRPPVARLVSVGLANA', 'TGLRVPVARLVSVGLLDA', 'IKEWRIVVDINXVQLLEA', 'KGLRSPVADLESVGLANA', 'KGEWVIVMDLESVGLLNA', 'KGLRPPVARLVSVGLAPA', 'KGLRVPVARLVSVGLAPA', 'KGLRVPVADLESVGLANA', 'IGEWVPVMDLEXVGLLEA', 'PKEWRIVMDIEXVQLLEA', 'KGERVPVMDLESVGLLNA', 'KGLWVPVMDLEXVGLLNA', 'KGLRPPVARLVSVGLLDA', 'KGLRVPVARLESVGLLDA', 'TGLRPPVARLVSVGLADA', 'KDLRSPVARLVSVGLANA', 'IGLWVIVMDLESVGLLEA', 'IKERVPVARLESVGLLDA', 'KGLRSPVARLESVGLANA', 'KGEWVIVMDLEXVGLLEA', 'KGERSPVADLVSVGLANA', 'IGEWRIVMDINXVQLLEA', 'KGLRSPVADLVSVGLANA', 'IGEWVIVMDLEXVGLLEA', 'KGLWVPVMDLESVGLLNA', 'IKEWRIVMDLEXVGLLEA', 'PGEWRIVMDIEXVQLLEA', 'IGLRVPVMDLESVGLLEA', 'TGERVPVMDLESVGLLDA', 'IKEWRIVMDIRXVQLLEA', 'IGEWRIVMDIEXVQLLEA', 'IGEWRIVMDLRXVGLLEA', 'KGLRVPVARLESVGLANA', 'KGLRPPPARLVSVGLAPA', 'KGLRVPVARLVSVGLADA', 'TDLRVPVARLESVGLADA', 'KGEWRIVMDLEXVGLLEA', 'KGLRVPVMDLESVGLANA', 'TGLRSPVARLVSVGLANA', 'KGLRVPVARLVSVGLANA', 'KGERVPVADLESVGLLDA', 'TGLRVPVARLVSVGLADA', 'KGERVPVADLESVGLANA', 'TGLRVPVARLESVGLLDA', 'IGEWRIVMDIEXVGLLEA', 'IGEWRIVMDINXVGLLEA', 'TDLRVPVARLVSVGLADA', 'IKERVPVMDLESVGLLDA', 'PGEWRIVMDIEXVGLLEA', 'TGLRSPVARLVSVGLADA', 'TDLRVPVARLVSVGLANA', 'KGEWVPVMDLEXVGLLNA', 'TGLRVPVARLESVGLANA', 'TGLRPPVARLVSVGLAPA', 'IKEWRIVMDINXVGLLEA', 'KGLRVPVMDLESVGLLNA', 'KGEWVIVMDLESVGLLEA', 'KGEWRIVMDLEXVGLLNA', 'IGEWRIVMDIRXVGLLEA', 'IGEWVIVMDLNXVGLLEA', 'KGLRPPQARLVSVGLAPA', 'IGEWVPVMDLEXVGLLDA', 'IGEWRIVMDLEXVGLLEA', 'KGEWVPVMDLEXVGLLEA', 'KGLRPPVARLVSVGLADA', 'TDLRVPVARLXSVGLAKA', 'KDLRSPVARLVSVGLAPA', 'IKEWRIVMDLNXVGLLEA', 'IGLWVIVMDLESVGLLNA', 'KGEWVIVMDLEXVGLLNA', 'IKESVPVMDLESVGLLDA', 'TDLRSPVARLVSVGLANA', 'KGEWRIVMDIEXVGLLEA', 'TGERVPVARLESVGLLDA', 'IGERVIVMDLESVGLLDA', 'TDLRVPVARLESVGLLDA', 'KGEWVPVMDLESVGLLNA', 'KGLRSPPARLVSVGLAPA', 'IGLWVPVMDLESVGLLNA', 'PKEWRIVMDIRXVQLLEA', 'TDLRVPVARLXSVGLADA', 'KGERVPVADLESVGLLNA', 'TGLRVPVARLVSVGLANA', 'KGLRVPVADLVSVGLANA', 'IKEWRIVMDIRXVGLLEA', 'IKEWRIVMDIEXVQLLEA', 'IGEWVIVMDLEXVGLLNA', 'IGEWVIVMDLESVGLLDA', 'KGLRVPVADLESVGLLDA', 'IKEWRIVMDIEXVGLLEA', 'IGEWVIVMDLRSVGLLDA', 'TDERVPVARLESVGLLDA', 'KDLRPPVARLVSVGLAPA', 'PGEWRIVMDIRXVGLLEA', 'IGERVPVMDLESVGLLDA'}\n",
            "7000 {'IAMIRASSDIDXEGYLDX', 'IARIRASSDIDXEGYLDX', 'PAEIRASMDIDXEGYLDX', 'IAEIRASMDIDXEGYLDX', 'IAMIRASMDIDXEGYLDX', 'PAMIRASMDIDXEGYLDX'}\n",
            "7100 {'RWLRPAISHAEXDXLYRX', 'RWLRPASSHAECDXLYEX', 'RWLRKSISHAEXDXLYRX', 'RWLRKSISHAECDXLYRX', 'RWLRPSISHAECDXLYRX', 'RWLRPASSHAECDXLLEX', 'RWLRPAISHAECDXLYRX', 'RWLRPALSHAECDXLYEX', 'RWLRPALSHAECDXLLEX', 'RWLRPAISHAECDXLYEX', 'RWLRPAISHAECDXLLEX', 'RWLRKAISHAEXDXLYRX'}\n",
            "7200 {'KTERVDKSEIPXPXXYRR', 'KDERTIKSDIPXWXXLRA', 'KTERYDLSEIPCPXXYRR', 'KTERVDKSDIPXDXXYRR', 'KTERYDLSDIPXDXXYRR', 'KTERYDKSEIPCDXXYRR', 'KDERYILSDIPXWXVYRR', 'KTERYDLSEIPXPXXYRR', 'KDERVDKSDIPXWXXYRR', 'KTERYDKSDIPXPXXYRR', 'KTERTDKSEIPXWXXYRR', 'KTERVDKSEIPXDXXYRR', 'KDERYILSDIPXDXXYRR', 'KDERTIPSDIPXAXLLRA', 'RTERYDLSHIPCDXXYRR', 'KTERTDKSEIPXAXXLRR', 'KDERVILSDIPXWXXYRR', 'KTERVDKSEIPXWXXYRR', 'KTERYDKSEIPCPXXYRR', 'KDERTDKSDIPXAXTLRA', 'KTERYILSDIPXDXXYRR', 'KDERTIKSDIPXWXXLRR', 'KDERYDKSDIPXWXXYRR', 'KDERTIKSDIPXAXLLRA', 'RTERYILSEIPCDXXYRR', 'RTERYDLSDIPCDXXYRR', 'KTERYILSDIPXWXXYRR', 'KDERVIKSDIPXWXVYRR', 'KTERYDLSEIPCDXXYRR', 'KDERTDVHDIPXAXLLRA', 'KTERVDKSEIPCPXXYRR', 'KDERTDKSDIPXWXXYRR', 'KDERYILSDIPXWXXYRR', 'KTERYDKSDIPXDXXYRR', 'KTERYILSEIPCDXXYRR', 'KTERYDKSEIPXPXXYRR', 'KDERTDKHDIPXAXLLRA', 'KTERTDKSDIPXWXXLRR', 'KDERTIVSDIPXAXLLRA', 'KDERTILSDIPXWXXYRR', 'RTERYDLSEIPCDXXYRR', 'KDERTDKSDIPXWXXLRR', 'KTERYILSHIPCDXXYRR', 'KTERYILSDIPCDXXYRR', 'KTERVDKSDIPXPXXYRR', 'KTERTDKSEIPXPXXLRR', 'KDERVILSDIPXWXVYRR', 'KDERTDKSDIPXWXLLRA', 'KTERYDKSEIPXDXXYRR', 'KTERYIKSDIPXDXXYRR', 'KTERYDKSDIPCDXXYRR', 'KDERTDKSDIPXWXLLRR', 'KDERVIKSDIPXWXXYRR', 'RTERYILSHIPCDXXYRR', 'KDERTDKSDIPXAXLLRA', 'KTERYDLSDIPCDXXYRR', 'KTERTDKSEIPXPXXYRR', 'KDERTIKSDIPXWXLLRA', 'KTERTDKSEIPXWXXLRR', 'RTERYILSDIPCDXXYRR', 'KTERYDLSEIPXDXXYRR', 'KTERVIKSDIPXWXXYRR', 'KTERVDKSDIPXWXXYRR', 'KTERYDKSDIPXWXXYRR', 'KDERTIKSDIPXWXXYRR', 'KTERTDKSDIPXWXXYRR', 'KTERYIKSDIPXWXXYRR'}\n",
            "7300 {'KDERYSKWEIPCKXXNRX', 'KDERYIPWEIPSKXXNRA', 'KDERYIPWEIPXKXXNRX', 'KDERYIPWEIPSKXXARR', 'KDERYSPWEIPXKXXNRX', 'EDERYSPAEIPCKXXYRX', 'EDERYSPAEIPPKXXYRX', 'KDERYSPSEIPPKXXNRX', 'KDERYSPAEIPCKXXYRX', 'KDERYIPWEIPSKXXNRR', 'KDERYSPAEIPCKXXNRX', 'KDERYSPAEIPPKXXYRX', 'KDERYIPWEIPIKXXNRX', 'KDERYSKAEIPCKXXYRX', 'KDERYSPWEIPCKXXNRX', 'KDERYSKEEIPCKXXNRX', 'EDERYSKAEIPCKXXYRX', 'KDERYSPWEIPCKXXYRX', 'KDERYSPWEIPSKXXNRX', 'KDERYIPWEIPSKXXARA', 'KDERYSPWEIPPKXXNRX', 'KDERYSKAEIPCKXXNRX', 'KDERYIPWEIPPKXXNRX', 'KDERYSKAEIPPKXXYRX', 'KDERYIPWEIPSKXXNRX', 'KDERYSPAEIPPKXXNRX'}\n",
            "7400 {'KDEKIWAAAKEIKSDNXX', 'KDEKYTAAPKEPKSDNXX', 'KDEKYWASPKEIKSDNXX', 'DDEKYWAAPKEPKSDNXX', 'KDEKYTASAKEIKSDNXX', 'DDEKIWASPKEPKSDNXX', 'KDEKYTASPKEPKSDNXX', 'KDEKYWASAKEIKSDNXX', 'DDEKYWASPKEIKSDNXX', 'KDEKITASAKEIKSDNXX', 'DDEKYTASPKEIKSDNXX', 'KDEKYTAAPKEIKSDNXX', 'DDEKYTAAPKEPKSDNXX', 'DDEKITAAAKEIKSDNXX', 'DSEKIWAAPKEPKSDNXX', 'KSEKYWASAKEIKSDNXX', 'DSEKIWASAKEIKSDNXX', 'DDEKIWASAKEIKSDNXX', 'DSEKIWAAPKEIKSDNXX', 'DDEKIWAAAKEIKSDNXX', 'DDEKITAAPKEPKSDNXX', 'KSEKIWAAAKEIKSDNXX', 'DSEKYWAAPKEPKSDNXX', 'KSEKITASAKEIKSDNXX', 'DDEKYWASPKEPKSDNXX', 'DSEKIWAAAKEIKSDNXX', 'DDEKYTASPKEPKSDNXX', 'KSEKIWASAKEIKSDNXX', 'DDEKYWAAPKEIKSDNXX', 'KDEKYTASPKEIKSDNXX', 'DDEKIWAAPKEIKSDNXX', 'DDEKIWAAPKEPKSDNXX', 'KSEKYTASAKEIKSDNXX'}\n",
            "7500 {'PSCKIWKDYMLEYDDFXX', 'PSCKIWKDYDLEYDDXXX', 'PSCKIWKDYKLEYDDFXX', 'PSCKIWKDYVLEYDDNXX', 'PSCKIWKDYMLEYDDNXX', 'PSCKIWKDYKLEYDDNXX', 'PSCKIWKDYVLEYDDFXX'}\n",
            "7600 {'PGRRTXRWALYFVPTKXA', 'PGRRTPRAALYFVPTKXA', 'DGRRTXRAALYFVPTKXA', 'DGRRTXRWALYFVPTKXA', 'KGRRTPRWALYFVPTKXA', 'KGRRTXRAALYFVPTKXA', 'PGRRTXRAALYFVPTKXA', 'KGRRTXRWALYFVPTKXA', 'PGRRTXRAALPFVPTKXA', 'PGRRTXRWALPFVPTKXA', 'KGRRTPRAALYFVPTKXA', 'KGLRTXRWALYFVPTKXA', 'KGLRTXRAALYFVPTKXA', 'DGRRTPRAALYFVPTKXA'}\n",
            "7700 {'RRRPVTYSFIPTEQYLEC', 'RRRPVTYSFIPTEXYLEV', 'RRRPVTYSFIPTEXYLEC'}\n",
            "7800 {'RRRRYTYGESPPPXXYRV', 'RRPRYTYGESPPPXXYRV', 'RRPRYTYRCSPPPXXYRV', 'RRRKYTYGCSPPPXXYRV', 'RRPRYTYGCSPPPXXYRV', 'RRRRYTYGCSPPPXXYRV', 'RRPRYTYRESPPPXXYRV', 'RRRRYTYGCSPPPXXYRG'}\n",
            "7900 {'CSPTHASRIYXPDXDDXF', 'CSPTFASRIYXPDXDNXF', 'CSPTFASRIYXPDXDDXF'}\n",
            "8000 {'RGRWVTYSESPPVIYLEL', 'RRRWVTSPHSPPVIYKXL', 'RRRWVTSNHSPPVIYKEL', 'RGRWVTYLESPPVIYLDL', 'RRRWVTSSHSPPVIYKXL', 'RGRWVTYLESPPVIYKXL', 'RGRWVTYSHSPPVIYLEL', 'RRRWRTYNESPPVIXKEL', 'RGRWVTYSESPPEIYLEL', 'RGRWVTYWESPPVIYLEL', 'RGRWVTYNESPPEIXKEL', 'RRRWVTYNHSPPVIYKXL', 'RRRWRTSNESPPVIXKEL', 'RGRWVTYLESPPEIXKXL', 'RRRWVTYSHSKPVIYLEL', 'RGRWVTYLESPPEIXLRL', 'RRRWRTYNESPPEIXKEL', 'RRRWVTYLHSPPVIYLEL', 'RRRWVTSSHSKPVIYLEL', 'RRRWVTYSESKPVIYLEL', 'RGRWVTYLESPPVIXLAL', 'RRRWRTSNHSPPVIXKEL', 'RGRWVTYSESPPEIXLEL', 'RRRWVTYNHSPPVIXKXL', 'RGRWVTYLESPPVIXKXL', 'RGRWVTYSESKPVIYLAL', 'RRRWVTYSHSPPVIYLXL', 'RRRWVTYSESPPVIYLEL', 'RRRWVTYLHSPPVIXKXL', 'RGRWVTYLESPPWIXKXL', 'RGRWVTYLESPPVIYKEL', 'RGRWVTYLHSPPVIYLEL', 'RGRWVTYLESPPEIXKEL', 'RRRWVTYSHSKPVXYLEL', 'RRRWVTYLESPPVIXKXL', 'RRRWVTYLESPPEIXKEL', 'RRRWVTSNHSPPVIXKEL', 'RRRWVTYSHSPPVIYLEL', 'RGRWVTYSESKPVIYLEL', 'RGRWVTYYESKPVIXLEL', 'RGRWVTYLESPPEXYLEL', 'RRRWVTYSHSPPVXYLEL', 'RGRWVTYLHSPPVIXKXL', 'RRRWVTYNHSPPVIYKEL', 'RGRWVTYWESKPVIXLEL', 'RRRWVTSLHSPPVIYKEL', 'RGRWVTYSHSKPVIYLAL', 'RGRWVTYLESPPVIXLEL', 'RRRWVTSNHSPPVIYKXL', 'RGRWVTYSESPPVXYLEL', 'RGRWVTYLHSPPVIYKEL', 'RRRWVTYNHSPPVIXKEL', 'RGRWVTYSESPPEXYLEL', 'RGRWVTYWESKPVIXLAL', 'RGRWVTYLESPPVIYLAL', 'RGRWVTYLESPPEXXLRL', 'RRRWVTYLHSKPVIYKXL', 'RRRWVTYLHSPPVIYKXL', 'RGRWVTYLESPPVIXKEL', 'RRRWVTYLHSPPVIYKEL', 'RGRWVTYWESKPVIYLEL', 'RGRWVTYLESPPEIXLEL', 'RRRWVTSLHSPPVIYKXL', 'RRRWVTYSESPPVXYLEL', 'RGRWVTYLHSPPVIYLDL', 'RRRWVTYNESPPVIXKEL', 'RGRWVTYLESPPELXLRL', 'RGRWVTYLHSPPVIYKXL', 'RGRWVTYWESPPVIXLEL', 'RGRWVTYLHSPPVIYLXL', 'RGRWVTYLESPPVIYLXL', 'RRRWVTYNESPPEIXKEL', 'RRRWVTSSHSPPVIYKEL', 'RGRWVTYSHSPPVXYLEL', 'RRRWVTSSHSPPVIYLXL', 'RGRWVTYSESPPVIXLEL', 'RRRWVTSSHSPPVIYLEL', 'RGRWVTYLESPPVIYLEL', 'RRRWVTSLHSPPVIYLEL', 'RGRWVTYLESPPEIYLEL', 'RGRWVTYLESPPVIXLXL'}\n",
            "8100 {'RKRIRIVLEIKIEQIKDX', 'RKRSPIYLEIKAEQILDX', 'RKRWPIVLEMKAEQIXDX', 'RKRSRARSEIKIEQHLEX', 'RKRSPAYSEIKIEQXLDX', 'RKRPRAYSEINIEQKLDX', 'RKRPRARSEIKIEQFLEX', 'RKRSPIYLEMKAEQXLDX', 'RKRSPIYLEIKAEQIXDX', 'RKRSPIYLEIKIEQXLDX', 'RKRIPAYLEIKAEQXLDX', 'RKRSPIYLEIKAEQXLDX', 'RKRWPIVLEMKAEQIKDX', 'RKRPPIYLEIKIEQLLDX', 'RKRPRAYLEINIEQILDX', 'RKRPRARSEIKIEQILEX', 'RKRPPAYLEIKIEQILDX', 'RKRSVIYLEIKIEQILDX', 'RKRPRAGSEIKIEQFLEX', 'RKRPRIYLEIKIEQSLDX', 'RKRSRGRSEIKIEQHLEX', 'RKRSPAYLEIKIEQILDX', 'RKRSRGRSEIKIEQILEX', 'RKRPVAYLEIKIEQILDX', 'RKRPRAGSEINIEQFLEX', 'RKRIPAYLEIKIEQXLDX', 'RKRPRARSEINIEQKLEX', 'RKRPRAGSFINIEQHLEX', 'RKRSRAYSEIKIEQILDX', 'RKRPRGRSEINIEQKLEX', 'RKRWPIYLEMKAEQIXDX', 'RKRWPIYLEIKAEQIKDX', 'RKRPRAYSEINIEQILEX', 'RKRIRAYLEIKIEQILDX', 'RKRIPIYLEIKIEQXLDX', 'RKRIPIYLEIKAEQIXDX', 'RKRIRIYLEIKIEQIKDX', 'RKRIPIYLEMKAEQXLDX', 'RKRIPIYLEMKAEQILDX', 'RKRPPIYLEIKAEQIXDX', 'RKRSRIYSEIKIEQILDX', 'RKRPRARSFINIEQHLEX', 'RKRPRAGSEINIEQILEX', 'RKRIPIYLEIKAEQIKDX', 'RKRSRIVLEIKIEQIKDX', 'RKRIPIVLEMKAEQIKDX', 'RKRSPAYSEIKIEQILDX', 'RKRPRARSEINIEQILEX', 'RKRIPIYLEMKAEXXVDX', 'RKRIPIVLEIKIEQIKDX', 'RKRPRAGSFINIEQKLEX', 'RKRPRGRSEIKIEQSLEX', 'RKRPRAYSEINIEQSLEX', 'RKRWPIVLEMKAEQXKDX', 'RKRPRAYSEIKIEQSLEX', 'RKSWPIVLEMKAEQIXDX', 'RKRIPIYLEIKIEQILDX', 'RKRSRARSEIKIEQSLEX', 'RKRIPIYLEIKAEQXLDX', 'RKRSRARSEIKIEQILEX', 'RKRIPIYLEMKAEQIXDX', 'RKRPRAYLEIKIEQLLDX', 'RKRIPAYLEMKAEQXLDX', 'RKRPRAYLEIKIEQFLDX', 'RKRPRAYSFINIEQKLDX', 'RKSWPIYLEMKAEQIVDX', 'RKRPRAYSEINIEQHLDX', 'RKRWPIVLEIKAEQILDX', 'RKRPRGYSEIKIEQILEX', 'RKRPPIYLEIKAEQILDX', 'RKRWPIYLEMKAEQILDX', 'RKRSRGYSEIKIEQILDX', 'RKRPRAYLEIKIEQILDX', 'RKRPRAGSEIKIEQILEX', 'RKRIRAYLEIKIEQLLDX', 'RKRIPIYLEMKAEQXXDX', 'RKRPRAYSEIKIEQILDX', 'RKRPRAYLFINIEQHLDX', 'RKRSRIYLEIKIEQILDX', 'RKSWPIYLEMKAEQXXDX', 'RKRPRARSEIKIEQSLEX', 'RKRPRAGSFINIEQKLDX', 'RKRWPIYLEIKAEQILDX', 'RKRPRGRSEINIEQHLEX', 'RKRSRAYSEIKIEQILEX', 'RKSWPIVLEMKAEQIKDX', 'RKRPRIYSEIKIEQILDX', 'RKRSRGRSEIKIEQHLDX', 'RKRPRARSEINIEQFLEX', 'RKRIPIYLEMKAEQXVDX', 'RKRPRAYLEINIEQLLDX', 'RKRPRAGSFINIEQRLEX', 'RKRPRAYLFINIEQKLDX', 'RKRWPIYLEMKAEQXXDX', 'RKRPVIYLEIKIEQILDX', 'RKRPRAGSEINIEQKLEX', 'RKRWPIYLEMKAEQXLDX', 'RKRIRGVLEIKIEQIKDX', 'RKRPRAYSFINIEQRLDX', 'RKRWPIYLEMKAEQXKDX', 'RKRIRIVLEIKAEQIKDX', 'RKRPRARSEIKIEQHLEX', 'RKRSPAYLEIKIEQXLDX', 'RKRWPIYLEIKAEQIXDX', 'RKRWPIYLEIKAEQXLDX', 'RKRIPIVLEIKAEQIKDX', 'RKRIPIYLEIKIEQIKDX', 'RKRPRARSEINIEQHLEX', 'RKSWPIYLEMKAEQIXDX', 'RKRPRARSEINIEQSLEX', 'RKRSPIYLEIKIEQILDX', 'RKRSPIVLEIKAEQIKDX', 'RKSWPIVLEMKAEIIVDX', 'RKRSRGRSEIKIEQILDX', 'RKRSRAYLEIKIEQILDX', 'RKRSPIYLEMKAEQIXDX', 'RKRSPAYLEIKAEQXLDX', 'RKRPRGRSEIKIEQHLEX', 'RKRWPIVLEIKAEQIKDX', 'RKRPRAYSEIKIEQILEX', 'RKRIPIYLEIKAEQILDX', 'RKRPPIYLEIKIEQIXDX', 'RKRPRAGSFINIEQRLDX', 'RKRPRAYSEINIEQLLDX', 'RKRPRGYSEIKIEQILDX', 'RKRWPIYLEMKAEQXVDX', 'RKRWPIYLEMKAEQIKDX', 'RKRPPAYSEIKIEQILDX', 'RKRPPIYLEIKIEQILDX', 'RKRIPAYLEIKAEXXLDX', 'RKRPRARSFINIEQKLEX', 'RKRPRIYLEIKIEQILDX', 'RKRWPIYLEMKAEQIVDX', 'RKRSPIYLEMKAEQILDX', 'RKRIRIYLEIKIEQILDX', 'RKRIPIYLEMKAEQIKDX', 'RKSWPIYLEMKAEXXXDX'}\n",
            "8200 {'PKVSPGSLECKFTQXVQX', 'PKVSPGSLECKFTQXKQX', 'PKVSPGSLECMFTQXKQX', 'PKVSPGSSECPFTQXKQX', 'PKRSPGSSECPFTQXKQX', 'PKVSPGLLECKFTQXVQX', 'PKVSPGSLECPFTQXKQX', 'PKVSPGSMECPFTQXKQX', 'PKVSPGLLECKFTQXKQX'}\n",
            "8300 {'RNPSPALLCVKPIXXPXQ', 'RRDSPAELHVXPIXXDXX', 'RRPSPAELCVXPIXXDXX', 'RRVSPAELTVXPIXXDXQ', 'RNPSPAELCVXPIXXPXQ', 'RNPSPALLTVKPIXXDXQ', 'RRDSPAILTVXAIXXPXQ', 'RNPSPAILHVKAIXXDXQ', 'RNPSPAILEVXPIXXPXQ', 'RRVSPAILTVXPIXXPXQ', 'CNPSPAILTVKPIXXPXQ', 'RNPSPAILTVXAIXXPXQ', 'RRVSPAILEVXPIXXDXQ', 'RNPSPAILIVKAIXXPXQ', 'RNVSPAILEVXPIXXPXQ', 'RNPSPAILTVKPIXXDXQ', 'RNVSPAILCVXAIXXPXQ', 'YDPRPAILTVKAIXXDXQ', 'RRMSPAELCVXPIXXVXX', 'RNVSPAILTVXAIXXPXQ', 'RRDSPAILTVXPIXXPXQ', 'CNPSPALLTVKPIXXPXQ', 'RRVSPAELEVXPIXXPXQ', 'RNVSPADLCVXPIXXPXQ', 'CNPSPAILIVKPIXXPXQ', 'RNPSPAILCVKPIXXPXQ', 'CNPSPAILTVKPIXXDXQ', 'RRDSPAELCVXPIXXPXX', 'RRVSPAELTVXPIXXFXX', 'RNPSPALLCVKPIXXDXQ', 'RRDSPAELCVXPIXXDXQ', 'RRDSPAELTVXPIXXFXQ', 'RNPSPAILHVKAIXXPXQ', 'RNVSPAELCVXPIXXPXX', 'RNVSPAELCVXPIXXDXQ', 'RRDSPAILEVXPIXXPXQ', 'RRDSPAELEVXPIXXFXQ', 'RRVSPAELTVXPIXXPXQ', 'CNPSPALLTVKPIXXDXQ', 'RRPSPAILCVXPIXXPXQ', 'RRDSPAELCVXPIXXPXQ', 'RNVSPAILCVXPIXXPXQ', 'RNPSPAILTVKPIXXPXQ', 'RRVSPAILTVXPIXXDXQ', 'RRVSPAILEVXPIXXPXQ', 'RRVSPAELTVXPIXXFXQ', 'RRPSPAELHVXPIXXPXX', 'RRVSPAILTVXAIXXPXQ', 'RRDSPAELHVXPIXXPXQ', 'RRDSPAILCVXPIXXPXQ', 'RRVSPAELCVXPIXXPXQ', 'RNVSPAILTVXPIXXPXQ', 'RNPSPADLCVXPIXXPXQ', 'RNPSPAILCVKPIXXDXQ', 'RRVSPAILCVXPIXXPXQ', 'RNPSPAILCVKAIXXPXQ', 'RNPSPAILCVKPIXXPXX', 'RRDSPAELTVXPIXXPXQ', 'RNVSPAELTVXPIXXDXQ', 'RNVSPAELQVXPIXXDXQ', 'RNPSPAILCVXPIXXPXX', 'CNPSPAILCVKPIXXPXQ', 'RRPSPAELCVXPIXXPXX', 'RRPSPAELHVXPIXXPXQ', 'RRVSPAELEVXPIXXFXQ', 'RNPRPAILTVKAIXXPXQ', 'RRVSPAELCVXPIXXDXQ', 'RRPSPAELCVXPIXXPXQ', 'RNVSPAELTVXPIXXPXQ', 'RNPSPAILHVKPIXXPXQ', 'RNVSPAELCVXPIXXPXQ', 'RNPSPAILCVXPIXXPXQ', 'RNPSPAILCVXAIXXPXQ', 'RRDSPAILHVXPIXXPXQ', 'RNPSPAILTVXPIXXPXQ', 'CNPSPALGTVKPIXXPXQ', 'RNPSPAILTVKAIXXPXQ', 'RRDSPAELCVXPIXXDXX', 'RNVSPAELEVXPIXXDXX', 'RRVSPAELEVXPIXXDXQ', 'RNPSPAILHVXPIXXPXQ', 'RRDSPAELHVXPIXXFXQ', 'RNPSPALLCVXPIXXPXX', 'RRVSPAXLQVXPIXXFXX', 'RNPSPALLCVKPIXXPXX', 'RNPSPAILIVKPIXXPXQ'}\n",
            "8400 {'RLKLAKLGLXGSPXAAAH', 'RLKLAKLGLXGSPXAPAX', 'RLKLAKLGLXGSPXAPAH', 'RLKLAKLGLXGSPXAAAX', 'RLKLAKLGLXGSPXAXAH'}\n",
            "8500 {'DLVVDFIGMLGNWKNASR', 'DLKVDFIGMLGNWKNASA', 'DLVVDFIGMLXNWKNASR', 'DLKVDFIGMLGNWKNASR', 'DLKVDFIGMLGNWKNASP'}\n",
            "8600 {'TKRSDIVLFCPIELXKGX', 'TRRWDIVLVKKKLLXDSX', 'TRRSRIVLFCPIELXKGX', 'TKRSDIVLFCPKELXKGX', 'TRRSDIVLFCKKELXKGX', 'TRRSDIVLFCKKLLXKGX', 'TKRSRIVLFCPIELXKGX', 'TRRSDIVLVCKKLLXDGX', 'TRRWDIVLVCKKLLXDSX', 'TRRSDIVLVCKKLLXKGX', 'TRRKDIVLVCKKLLXDSX', 'TRRSDIVLVCKKELXKGX', 'TRRSDIVLVCKKLLXKSX', 'TRRSDIVLFCPIELXKGX', 'PKRSRIVLFCPIELXKGX', 'IKRSRIVLFCPIELXKGX', 'TRRSDIVLFCKKLLXDSX', 'TRRWDIVLFKKKLLXDSX', 'TRRSDIVLFCKKLLXDGX', 'TRRSDIVLFCKKLLXKSX', 'TRRWDIVLFCKKLLXDSX', 'TRRSDIVLFKKKLLXDSX', 'TRRSDIVLVCKKLLXDSX', 'TRRKDIVLVKKKLLXDSX', 'TRRSDIVLVKKKLLXDSX', 'TRRSDIVLFCPKELXKGX', 'TRSKDIVLVKKKLLXDSX'}\n",
            "8700 {'TKRWVIWLFAKHELNKEL', 'TKRWVIWLFAKIELNKEL', 'IKRWVIWLFAKHELNKEL'}\n",
            "8800 {'TLISVRWPFNRLRLNVXL', 'TLISVRWPFNRLLLNVKL', 'TIISVRHPFNRLRLNVXL', 'TLIVVRTPLNRLRLNVXL', 'TLIVVRWPLNRLRLNVKL', 'TIISVRHPFNRLLLNVKL', 'TLISVRWPGNRLRLNVKL', 'TLISVRHPFNRLLLNVKL', 'TIISVRWPFNRLRLNVXL', 'TLKVVRTPLNRLRLNVKL', 'TLISVRWPLNRLRLNVKL', 'TLISVRHPFNRLRLNVKL', 'TIISVRHPFNRLRLNVKL', 'TLISVRWPGNRLLLNVKL', 'TLISVRWPFNRLRLNVKL', 'TLISVRWPFNRLLLNVXL', 'TLKVVRTPLNRLRLNVXL', 'TLIVVRTPLNRLRLNVKL', 'TIISVRWPFNRLLLNVXL', 'TLISVRHPFNRLRLNVXL', 'TLISVRWPLNRLLLNVKL', 'TIISVRWPFNRLLLNVKL'}\n",
            "8900 {'HEKQELIESXGQRXLDXI', 'HEKQELIECXGQRXLDXI'}\n",
            "9000 {'HEVKHLIEMHRQKXNDXA', 'HETKSPILMHRQAXNDNA', 'HETKHLILMARQAXNDXI', 'HETKHLILMHRQKXNDXI', 'HEVKSPILMARQAXNVNA', 'HEVKSLILMMRQKXNDXA', 'HETKHLIEMARQKXNDXI', 'HETKSFILMMRQKXNDXA', 'HETKSLILMMRQAXNDNA', 'HETKHLIECARQKXNDXI', 'HETKHLIEMARQKXNDNI', 'HETKHLIECARQKXLDXI', 'HETKHLIERHRQKXNDNI', 'HEVKSPILMARQAXNDNA', 'HETKHLILMARQAXNDNI', 'HETKHLIERARQKXLDXI', 'HETKSPILMHRQKXNDNA', 'HETKSLILMHRQKXNDXA', 'HETKHLIEMHRQKXNDXA', 'HETKHPILMHRQKXNDXA', 'HEVKSLILMARQAXNDNA', 'HETKSFILMHRQKXNDXA', 'HEVKSFILMMRQKXNDNA', 'HETKSPILMHRQAXNRNA', 'HETKHLIERHRQKXNDXA', 'HETKHLIEMHRQKXNDXI', 'HETKHFILMHRQKXNDXA', 'HEVKSFILMHRQKXNDXA', 'HETKSLILMARQAXNDNA', 'HETKSFILMMRQAXNDNA', 'HETKHLIERARQAXNDXI', 'HETKHLIEMARQKXNDNA', 'HETKSLILMMRQKXNDXA', 'HEVKSPILMARQAXNRNA', 'HETKHLILMARQAXNDNA', 'HETKHLIEMARQAXNDNI', 'HETKHLILMARQKXNDNI', 'HETKHLIERHRQAXNDXI', 'HETKHLILMHRQKXNDNI', 'HETKSLILMHRQKXNDNA', 'HETKHLIERARQKXNDXA', 'HETKHLIEMHRQKXNDNA', 'HEVKHLILMHRQKXNDXA', 'HETKHLILMHRQAXNRNI', 'HETKHLIEMHRQAXNDXI', 'HEVKSFILMMRQAXNDNA', 'HETKHLIERHRQKXNDNA', 'HETKSPILMARQAXNDNA', 'HETKHLIERHRQKXNDXI', 'HETKHLILMHRQKXNDXA', 'HEVKSFILMMRQAXNRNA', 'HETKHLIEMHRQKXNDNI', 'HETKHLIERARQKXNDXI', 'HETKHLILMHRQAXNDNI', 'HETKHLIERARQKXNDNA', 'HETKHLILMARQKXNDXI', 'HETKHPILMHRQKXNDNA', 'HETKSPILMMRQAXNRNA', 'HETKSLILMMRQAXNRNA', 'HETKHLIERARQKXNDNI', 'HETKSLILMHRQAXNDNA', 'HEVKSFILMMRQKXNDXA', 'HEVKHLILMHRQAXNDXA', 'HEVKHFILMHRQKXNDXA', 'HEVKSPILMSRQAXNRNA', 'HETKHLIEMARQAXNDXI', 'HETKHLILMHRQAXNDNA', 'HETKHLILMARQKXNDNA', 'HETKHLIEMHRQAXNDNA', 'HETKSLILMHRQAXNRNA', 'HETKHLILMHRQAXNDXI', 'HEVKSLILMHRQAXNRNI', 'HETKHLILMHRQKXNDNA', 'HETKHLIECHRQKXNDXI', 'HEVKSPILMHRQAXNDNA'}\n",
            "9100 {'TRHKILAASNVKKXQFXX', 'TSHKILAASNVKKXQFXX', 'TRHKILAASNKKKEQFXX', 'TRHKILAASNVKKEQFXX', 'TRHKILAASNKKKEXFXX', 'TSHKILAASNVKKEQFXX', 'TRHKILAASNVKKEXFXX'}\n",
            "9200 {'AXVVHVSAXXGAXXAFXH', 'AXVKHVSAXXGAXXAAXH', 'AXVKHVSAXXGAXGAAXH', 'AXVKHVSAXSGAXXAAXA', 'AXVKHPIAXXGAXXAAXA', 'AVVVHVSAXXGAXGAAXA', 'AXVVHPSAXXGAXXAAXA', 'AXVVHVSAXXGAXXAFXA', 'AVVVHVSAXXGAXXAFXH', 'AXVKHPSAXXGAXXAFXA', 'AXVVHVSAXSGAXXAAXA', 'AXVKHPIAXXGAXXAFXA', 'AXVKHPSAXXGAXXAAXA', 'AXVVHPSAXSGAXXAAXA', 'AXVKHHSAXXGAXXAFXH', 'AXVKHPSAXXGAXXAAXW', 'AXVKHPSAXSGAXXAAXA', 'AXVVHVSAXXGAXXAAXH', 'AVVVHVSAXXGAXXAAXH', 'AXVKHPIAXSGAXXAAXA', 'AVVKHVSAXXGAXGAAXA', 'AXVKHPIAXXGAXXAAXH', 'AXVKHVSAXXGAXXAFXH', 'AXVKHPIAXXGAXXAFXH', 'AXVKHPSAXSGAXXAFXA', 'AXVKHPSAXXGAXXAFXH', 'AXVKHVSAXXGAXXAAXA', 'AXVKHVSAXSGAXXAFXA', 'AVVKHVSAXXGAXXAFXH', 'AVVKHVSAXXGAXGAAXH', 'AXVKHPIAXSGAXXAFXA', 'AVVKHVSAXXGAXXAAXA', 'AXVVHVSAXXGAXXAAXA', 'AXVKHVSAXXGAXXAFXA', 'AVVKHVSAXXGAXXAFXA', 'AXVKHVSAXXMAXXAFXH', 'AXVKHPIAXXGAXXAAXW', 'AXVKHHSAXXMAXXAFXH', 'AXVKHVSAXXGAXGAAXA', 'AVVVHVSAXXGAXXAAXA', 'AVVKHVSAXXMAXXAFXH', 'AVVKHVSAXXGAXXAAXH', 'AVVKHHSAXXMAXXAFXH', 'AXVVHVSAXXGAXGAAXA', 'AXVKHPSAXXGAXXAAXH'}\n",
            "9300 {'CNYKMLNLMNSTEENVPL', 'CNYKMLNLMNSTIENVIL', 'CXYKMLVLMNSTEENVIL', 'CXYKMLNLMNSTIENVIL', 'CNYKMLELMNSTEENVIL', 'CNYKMLYLMNSTEENVPL', 'CNYKMLNLMNSTEENVIL', 'CNYKMLVLMNSTEENVPL', 'CNYKMLYLMNSTIENVIL', 'CXYKMLVLMNSTIENVIL', 'CXYKMLNLMNSTEENVIL', 'CNYKMLVLMNSTEENVIL', 'CNYKMLNLMNSTQENVIL', 'CXYKMLVLMNSTEENVPL', 'CNYKMLVLMNSTIENVIL', 'CNYKMLELMNSTIENVIL', 'CNYKMLYLMNSTEENVIL'}\n",
            "9400 {'MNNKALLRNCDTKDXFVX', 'MNNKALLRNCDTKDXTVX', 'MNNKALLCNCDTPDXFVX', 'MNNKALLCNCDTKDXFVX', 'MNNKALLMNCDTKDXFVX', 'MNNKALLDNCDTPDXFVX', 'MNNKALLMWCDTKDXFVX', 'MNNKALLRNCDTRDXFXX', 'MNNKALLMWCDTPDXFVX', 'MNNKALLDNCDTKDXFVX', 'MNNKALLRNCDTPDXTVX', 'MNNKASLCWCDTPDXFVX', 'MNNKALLRNCDTRDXFVX', 'MNNKALLCNCDTKDXFXX', 'MNNKALLMNCDTPDXFVX', 'MNNKALLRNCDTKDXNVX', 'MNNKALLRNCDTPDXFVX', 'MNNKALLRNCDTKDXFXX', 'MNNKALLRNCDTKDXGVX', 'MNNKALLHNCDTRDXFVX', 'MNNKALLCWCDTKDXFVX', 'MNNKALLCNCDTRDXFVX', 'MNNKALLRWCDTKDXFVX', 'MNNKALLRNCDTRDXTVX', 'MNNKASLCNCDTPDXFVX'}\n",
            "9500 {'MRFIFLEYFEXGPMQXXG', 'MKFIFLEYFEXGPMQXXG', 'MKGIFLEYNEXGPMQXXG', 'MRNIFLEYNEXGPMQXXG', 'MRGIFLEYFEXGPMQXXG', 'MRNIFLEYFEXGPMQXXG', 'MRGIFLEYNEXGPMQXXG', 'MRFIFLEYNEXGPMQXXG', 'MKGIFLEYFEXGPMQXXG'}\n",
            "9600 {'CESWEFVLMKSAXGAXXR', 'CGSWEFVLMKSAXEAXXR', 'CESWEFVLMKSAXANXXR', 'CESWEFVLMKSALEAXXR', 'CGSWEFVLMKSAXENXXR', 'CESWEFVLMKSALATXXR', 'CESWEFVLMKSAXAAXXR', 'CESWEFVLMKSAAATXXR', 'CESWEFVLMKSALETXXR', 'CGSWEFVLMKSAAANXXR', 'CESWEFVLMKSAXETXXR', 'CESWEFVLMKSAAANXXR', 'CESWEFVLMKSAXEGXXR', 'CESWEFVLMKSAXENXXR', 'CESWEFVLMKSAXEAXXR', 'CGSWEFVLMKSAXEGXXR'}\n",
            "9700 {'TAVWMIRLIRSHXGKXXL'}\n",
            "9800 {'RKVPMIRPFDSHXQCXDK', 'RKVPMARPFDSHXQCXDK'}\n",
            "9900 {'CXGAMKLELYXXLXXXMW', 'CXVAMKLELYXXLXXXMT', 'CLKAMKLECYXXLXXXRT', 'CXVAMKLELXXXLXXXMW', 'CXKAMKLELXXXLXXXMT', 'CXVAMKLECXXXLXXXMT', 'CLKAMKLELYXXLXXXRT', 'CLKAMKLECXXXLXXXRT', 'MLKAMKLECYIXLXXXRT', 'CXGAMKLELXXXLXXXMT', 'CXKAMKLECXXXLXXXRT', 'CXVAMKLELXXXLXXXMT', 'CXKAMKLELXXXLXXXRT', 'CLKAMKLELXXXLXXXRT', 'CXGAMKLELXXXLXXXXW', 'CXVAMKLECXXXLXXXRT', 'CXKAMKLECYXXLXXXRT', 'CXVAMKLELYXXLXXXMW', 'CXGAMKLELXXXLXXXMW', 'CXVAMKLELYXXLXXXRT'}\n",
            "10000 {'CTVRKSTEVKDXLAXXRR', 'CTSRKSTEVKDXLAXXXR', 'MTSRKSTEVKDXLAXXRR', 'MTVRKSTEVKDXLAXXRR', 'MTVRKSTEVKDXLAXXXR', 'CTSRKSTEVKDXLAXXRR', 'MTNRKSTEVKDXLAXXRR', 'CTVRKSTEVKDXLAXXXR', 'MTNRKSTEVKDXLAXXXR', 'CTNRKSTEVKDXLAXXXK', 'CTNRKSTEVKDXLAXXXR', 'MTSRKSTEVKDXLAXXXR'}\n",
            "Program took 1062.6414947509766 to run\n"
          ],
          "name": "stdout"
        }
      ]
    },
    {
      "cell_type": "code",
      "metadata": {
        "id": "Drm_MN96pPUJ",
        "colab_type": "code",
        "colab": {
          "base_uri": "https://localhost:8080/",
          "height": 297
        },
        "outputId": "46cadb56-09af-4bbd-85a3-17b74ae32d6f"
      },
      "source": [
        "loss_g = losses[0]\n",
        "loss_dreal = losses[1]\n",
        "loss_dfake = losses[2]\n",
        "plt.plot(loss_g[1000:], label = 'generator')\n",
        "plt.plot(loss_dreal[1000:], label ='discriminator_Real')\n",
        "plt.plot(loss_dfake[1000:], label = 'discrimininator_Fake')\n",
        "plt.xlabel('Update')\n",
        "plt.ylabel('Loss')\n",
        "plt.legend()"
      ],
      "execution_count": 16,
      "outputs": [
        {
          "output_type": "execute_result",
          "data": {
            "text/plain": [
              "<matplotlib.legend.Legend at 0x7f5f48a90be0>"
            ]
          },
          "metadata": {
            "tags": []
          },
          "execution_count": 16
        },
        {
          "output_type": "display_data",
          "data": {
            "image/png": "[encoded data removed]",
            "text/plain": [
              "<Figure size 432x288 with 1 Axes>"
            ]
          },
          "metadata": {
            "tags": [],
            "needs_background": "light"
          }
        }
      ]
    },
    {
      "cell_type": "code",
      "metadata": {
        "id": "2wL5c7ZsPrUy",
        "colab_type": "code",
        "colab": {
          "base_uri": "https://localhost:8080/",
          "height": 35
        },
        "outputId": "c7f64b36-e61b-4f54-9d5b-64b21de4b9f7"
      },
      "source": [
        "noise = noise_function(5)\n",
        "noise_data = torch.tensor(noise).float()\n",
        "generated_data = generator(noise_data)\n",
        "\n",
        "generated_data = torch.reshape(generated_data, [5,18,21])\n",
        "\n",
        "generated_data = generated_data.detach().numpy()\n",
        "\n",
        "sequences = []\n",
        "\n",
        "for j in range(5):\n",
        "\n",
        "  sequence = np.reshape(generated_data[j], [18,21])\n",
        "  sequences.append(vector_to_sequence(sequence))\n",
        "\n",
        "print(sequences)"
      ],
      "execution_count": 269,
      "outputs": [
        {
          "output_type": "stream",
          "text": [
            "['SWDCTMWGHRTCGTTKAR', 'SWDCTMWGHRTCGTTKAR', 'SWDCTMWGHRTCGTTKAR', 'SWDCTMWGHRTCGTTKAR', 'SWDCTMWGHRTCGTTKAR']\n"
          ],
          "name": "stdout"
        }
      ]
    },
    {
      "cell_type": "code",
      "metadata": {
        "id": "fYlsIG8LP8rs",
        "colab_type": "code",
        "colab": {}
      },
      "source": [
        ""
      ],
      "execution_count": null,
      "outputs": []
    }
  ]
}